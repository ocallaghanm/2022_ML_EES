{
  "nbformat": 4,
  "nbformat_minor": 0,
  "metadata": {
    "colab": {
      "name": "S3_3_THOR.ipynb",
      "provenance": [],
      "include_colab_link": true
    },
    "kernelspec": {
      "name": "python3",
      "display_name": "Python 3"
    },
    "language_info": {
      "name": "python"
    }
  },
  "cells": [
    {
      "cell_type": "markdown",
      "metadata": {
        "id": "view-in-github",
        "colab_type": "text"
      },
      "source": [
        "<a href=\"https://colab.research.google.com/github/ocallaghanm/2022_ML_EES/blob/main/Exercises/S3_3_THOR.ipynb\" target=\"_parent\"><img src=\"https://colab.research.google.com/assets/colab-badge.svg\" alt=\"Open In Colab\"/></a>"
      ]
    },
    {
      "cell_type": "markdown",
      "source": [
        "<img src='https://unils-my.sharepoint.com/:i:/g/personal/tom_beucler_unil_ch/ESLP1e1BfUxKu-hchh7wZKcBZiG3bJnNbnt0PDDm3BK-9g?download=1'>\n",
        "\n",
        "<center> \n",
        "Photo Credits: <a href=\"https://unsplash.com/photos/zCMWw56qseM\">Sea Foam</a> by <a href=\"https://unsplash.com/@unstable_affliction\">Ivan Bandura</a> licensed under the <a href='https://unsplash.com/license'>Unsplash License</a> \n",
        "</center>\n",
        "\n",
        "\n",
        ">*A frequently asked question related to this work is “Which mixing processes matter most for climate?” As with many alluringly comprehensive sounding questions, the answer is “it depends.”* <br>\n",
        "> $\\qquad$ MacKinnon, Jennifer A., et al. <br>$\\qquad$\"Climate process team on internal wave–driven ocean mixing.\" <br>$\\qquad$ Bulletin of the American Meteorological Society 98.11 (2017): 2429-2454."
      ],
      "metadata": {
        "id": "dUurnKLqq1un"
      }
    },
    {
      "cell_type": "markdown",
      "source": [
        "In week 4's final notebook, we will perform clustering to identify regimes in data taken from the realistic numerical ocean model [Estimating the Circulation and Climate of the Ocean](https://www.ecco-group.org/products-ECCO-V4r4.htm). Sonnewald et al. point out that finding robust regimes is intractable with a naïve approach, so we will be using using reduced dimensionality data. \n",
        "\n",
        "It is worth pointing out, however, that the reduction was done with an equation instead of one of the algorithms we discussed this week. If you're interested in the full details, you can check out [Sonnewald et al. (2019)](https://doi.org/10.1029/2018EA000519)"
      ],
      "metadata": {
        "id": "yT4KFNrpZIfY"
      }
    },
    {
      "cell_type": "markdown",
      "source": [
        "# Setup"
      ],
      "metadata": {
        "id": "PHKbQVLOUC5v"
      }
    },
    {
      "cell_type": "markdown",
      "source": [
        "First, let's import a few common modules, ensure MatplotLib plots figures inline and prepare a function to save the figures. We also check that Python 3.5 or later is installed (although Python 2.x may work, it is deprecated so we strongly recommend you use Python 3 instead), as well as Scikit-Learn ≥0.20."
      ],
      "metadata": {
        "id": "4TxieA70pcLo"
      }
    },
    {
      "cell_type": "code",
      "execution_count": 1,
      "metadata": {
        "id": "S61_Smb9T6ad"
      },
      "outputs": [],
      "source": [
        "# Python ≥3.5 is required\n",
        "import sys\n",
        "assert sys.version_info >= (3, 5)\n",
        "\n",
        "# Scikit-Learn ≥0.20 is required\n",
        "import sklearn\n",
        "assert sklearn.__version__ >= \"0.20\"\n",
        "\n",
        "# Common imports\n",
        "import numpy as np\n",
        "import os\n",
        "import xarray as xr\n",
        "import pooch\n",
        "\n",
        "# to make this notebook's output stable across runs\n",
        "rnd_seed = 42\n",
        "rnd_gen = np.random.default_rng(rnd_seed)\n",
        "\n",
        "# To plot pretty figures\n",
        "%matplotlib inline\n",
        "import matplotlib as mpl\n",
        "import matplotlib.pyplot as plt\n",
        "mpl.rc('axes', labelsize=14)\n",
        "mpl.rc('xtick', labelsize=12)\n",
        "mpl.rc('ytick', labelsize=12)\n",
        "\n",
        "# Where to save the figures\n",
        "PROJECT_ROOT_DIR = \".\"\n",
        "CHAPTER_ID = \"dim_reduction\"\n",
        "IMAGES_PATH = os.path.join(PROJECT_ROOT_DIR, \"images\", CHAPTER_ID)\n",
        "os.makedirs(IMAGES_PATH, exist_ok=True)\n",
        "\n",
        "def save_fig(fig_id, tight_layout=True, fig_extension=\"png\", resolution=300):\n",
        "    path = os.path.join(IMAGES_PATH, fig_id + \".\" + fig_extension)\n",
        "    print(\"Saving figure\", fig_id)\n",
        "    if tight_layout:\n",
        "        plt.tight_layout()\n",
        "    plt.savefig(path, format=fig_extension, dpi=resolution)"
      ]
    },
    {
      "cell_type": "markdown",
      "source": [
        "Here we're going to import the [StandardScaler](https://duckduckgo.com/sklearn.preprocessing.standardscaler) function from scikit's preprocessing tools, import the [scikit clustering library](https://duckduckgo.com/sklearn.clustering), and set up the colormap that we will use when plotting."
      ],
      "metadata": {
        "id": "6vUFq1DYUqCx"
      }
    },
    {
      "cell_type": "code",
      "source": [
        "from sklearn.preprocessing import StandardScaler\n",
        "import sklearn.cluster as cluster\n",
        "\n",
        "from matplotlib.colors import LinearSegmentedColormap, ListedColormap\n",
        "colors = ['royalblue', 'cyan','yellow', 'orange', 'magenta', 'red']\n",
        "mycmap = ListedColormap(colors)"
      ],
      "metadata": {
        "id": "34PAL9TkUHd_"
      },
      "execution_count": 2,
      "outputs": []
    },
    {
      "cell_type": "markdown",
      "source": [
        "# Data Preprocessing"
      ],
      "metadata": {
        "id": "Fr46ZRUjpTzo"
      }
    },
    {
      "cell_type": "markdown",
      "source": [
        "The first thing we need to do is retrieve the list of files we'll be working on. We'll rely on pooch to access the files hosted on the cloud."
      ],
      "metadata": {
        "id": "O9QOXpKGpgt7"
      }
    },
    {
      "cell_type": "code",
      "source": [
        "# Retrieve the files from the cloud using Pooch.\n",
        "data_url = 'https://unils-my.sharepoint.com/:u:/g/personal/tom_beucler_unil_ch/EUYqUzpIjoJBui02QEo6q1wBSN1Zsi1ofE6I3G4B9LJn_Q?download=1'\n",
        "hash = '3f41661c7a087fa7d7af1d2a8baf95c065468f8a415b8514baedda2f5bc18bb5'\n",
        "\n",
        "files = pooch.retrieve(data_url, known_hash=hash, processor=pooch.Unzip())\n",
        "[print(filename) for filename in files];"
      ],
      "metadata": {
        "id": "nDNJnzOAfKE_",
        "outputId": "05f7f0e8-471c-4be4-d674-802db83bc650",
        "colab": {
          "base_uri": "https://localhost:8080/"
        }
      },
      "execution_count": 3,
      "outputs": [
        {
          "output_type": "stream",
          "name": "stderr",
          "text": [
            "Downloading data from 'https://unils-my.sharepoint.com/:u:/g/personal/tom_beucler_unil_ch/EUYqUzpIjoJBui02QEo6q1wBSN1Zsi1ofE6I3G4B9LJn_Q?download=1' to file '/root/.cache/pooch/8a10ee1ae6941d8b9bb543c954c793fa-EUYqUzpIjoJBui02QEo6q1wBSN1Zsi1ofE6I3G4B9LJn_Q'.\n",
            "Unzipping contents of '/root/.cache/pooch/8a10ee1ae6941d8b9bb543c954c793fa-EUYqUzpIjoJBui02QEo6q1wBSN1Zsi1ofE6I3G4B9LJn_Q' to '/root/.cache/pooch/8a10ee1ae6941d8b9bb543c954c793fa-EUYqUzpIjoJBui02QEo6q1wBSN1Zsi1ofE6I3G4B9LJn_Q.unzip'\n"
          ]
        },
        {
          "output_type": "stream",
          "name": "stdout",
          "text": [
            "/root/.cache/pooch/8a10ee1ae6941d8b9bb543c954c793fa-EUYqUzpIjoJBui02QEo6q1wBSN1Zsi1ofE6I3G4B9LJn_Q.unzip/noiseMask.npy\n",
            "/root/.cache/pooch/8a10ee1ae6941d8b9bb543c954c793fa-EUYqUzpIjoJBui02QEo6q1wBSN1Zsi1ofE6I3G4B9LJn_Q.unzip/curlTau.npy\n",
            "/root/.cache/pooch/8a10ee1ae6941d8b9bb543c954c793fa-EUYqUzpIjoJBui02QEo6q1wBSN1Zsi1ofE6I3G4B9LJn_Q.unzip/BPT.npy\n",
            "/root/.cache/pooch/8a10ee1ae6941d8b9bb543c954c793fa-EUYqUzpIjoJBui02QEo6q1wBSN1Zsi1ofE6I3G4B9LJn_Q.unzip/curlA.npy\n",
            "/root/.cache/pooch/8a10ee1ae6941d8b9bb543c954c793fa-EUYqUzpIjoJBui02QEo6q1wBSN1Zsi1ofE6I3G4B9LJn_Q.unzip/curlCori.npy\n",
            "/root/.cache/pooch/8a10ee1ae6941d8b9bb543c954c793fa-EUYqUzpIjoJBui02QEo6q1wBSN1Zsi1ofE6I3G4B9LJn_Q.unzip/curlB.npy\n"
          ]
        }
      ]
    },
    {
      "cell_type": "markdown",
      "source": [
        "And now that we have a set of files to load, let's set up a dictionary with the variable names as keys and the data in numpy array format as the values."
      ],
      "metadata": {
        "id": "bZxAvW1gBbO1"
      }
    },
    {
      "cell_type": "code",
      "source": [
        "# Let's read in the variable names from the filepaths\n",
        "var_names = []\n",
        "[var_names.append(path.split('/')[-1][:-4]) for path in files]\n",
        "\n",
        "# And build a dictionary of the data variables keyed to the filenames\n",
        "data_dict = {}\n",
        "for idx, val in enumerate(var_names):\n",
        "    data_dict[val] = np.load(files[idx]).T\n",
        "\n",
        "#We'll print the name of the variable loaded and the associated shape \n",
        "[print(f'Varname: {item[0]:<15} Shape: {item[1].shape}') for item in data_dict.items()];"
      ],
      "metadata": {
        "id": "b8OmoBGHBkwG",
        "outputId": "67871c4e-d043-42fa-cede-fbf6f38fad0e",
        "colab": {
          "base_uri": "https://localhost:8080/"
        }
      },
      "execution_count": 4,
      "outputs": [
        {
          "output_type": "stream",
          "name": "stdout",
          "text": [
            "Varname: noiseMask       Shape: (360, 720)\n",
            "Varname: curlTau         Shape: (360, 720)\n",
            "Varname: BPT             Shape: (360, 720)\n",
            "Varname: curlA           Shape: (360, 720)\n",
            "Varname: curlCori        Shape: (360, 720)\n",
            "Varname: curlB           Shape: (360, 720)\n"
          ]
        }
      ]
    },
    {
      "cell_type": "markdown",
      "source": [
        "We now have a dictionary that uses the filename as the key! Feel free to explore the data (e.g., loading the keys, checking the shape of the arrays, plotting)"
      ],
      "metadata": {
        "id": "RMbhwWTunLvz"
      }
    },
    {
      "cell_type": "code",
      "source": [
        "#Feel free to explore the data dictionary"
      ],
      "metadata": {
        "id": "rG2pgeH5pB4f"
      },
      "execution_count": null,
      "outputs": []
    },
    {
      "cell_type": "markdown",
      "source": [
        "We're eventually going to have an array of cluster classes that we're going to use to label dynamic regimes in the ocean. Let's make an array full of NaN (not-a-number) values that has the same shape as our other variables and store it in the data dictionary. "
      ],
      "metadata": {
        "id": "xXwnzzbRtTYs"
      }
    },
    {
      "cell_type": "code",
      "source": [
        "data_dict['clusters'] = np.full_like(data_dict['BPT'],np.nan)"
      ],
      "metadata": {
        "id": "4VYRgr0cuHKg"
      },
      "execution_count": 5,
      "outputs": []
    },
    {
      "cell_type": "markdown",
      "source": [
        "### Reformatting as Xarray"
      ],
      "metadata": {
        "id": "pCumDPFEpFcf"
      }
    },
    {
      "cell_type": "markdown",
      "source": [
        "In the original paper, this data was loaded as numpy arrays. However, we'll take this opportunity to demonstrate the same procedure while relying on xarray. First, let's instantiate a blank dataset.<br><br>\n",
        "\n",
        "###**Q1) Make a blank xarray dataset.**<br>\n",
        "*Hint: Look at the xarray [documentation](https://duckduckgo.com/?q=xarray+dataset)*"
      ],
      "metadata": {
        "id": "vz_vQOCguax0"
      }
    },
    {
      "cell_type": "code",
      "source": [
        "# Make your blank dataset here! Instantiate the class without passing any parameters.\n",
        "blank = xr.Dataset()"
      ],
      "metadata": {
        "id": "JIPsLT6g-INq"
      },
      "execution_count": 6,
      "outputs": []
    },
    {
      "cell_type": "markdown",
      "source": [
        "<img src='https://unils-my.sharepoint.com/:i:/g/personal/tom_beucler_unil_ch/EZv_qqVz_h1Hio6Nq11ckScBb01bGb9jtNKzdqAg1TPrKQ?download=1'>\n",
        "<center> Image taken from the xarray <a href='https://xarray.pydata.org/en/stable/user-guide/data-structures.html#:~:text=Dataset-,xarray.,from%20the%20netCDF%20file%20format.'> <i>Data Structure documentation</i> </a> </center>\n",
        "\n",
        "In order to build the dataset, we're going to need a set of coordinate vectors that help us map out our data! For our data, we have two axes corresponding to longitude ($\\lambda$) and latitude ($\\phi$). \n",
        "\n",
        "We don't know much about how many lat/lon points we have, so let's explore one of the variables to make sense of the data the shape of one of the numpy arrays.\n",
        "\n",
        "###**Q2) Visualize the data using a plot and printing the shape of the data to the console output.**"
      ],
      "metadata": {
        "id": "jJK9Ud9tp3_r"
      }
    },
    {
      "cell_type": "code",
      "source": [
        "#Complete the code\n",
        "# Let's print out an image of the Bottom Pressure Torques (BPT)\n",
        "plt.imshow(data_dict['BPT'], origin='lower')"
      ],
      "metadata": {
        "id": "Kiw2tAT1D6Ny",
        "outputId": "c744f689-c788-44e4-a19e-a331e3c48c8e",
        "colab": {
          "base_uri": "https://localhost:8080/",
          "height": 236
        }
      },
      "execution_count": 7,
      "outputs": [
        {
          "output_type": "execute_result",
          "data": {
            "text/plain": [
              "<matplotlib.image.AxesImage at 0x7ff6b0245490>"
            ]
          },
          "metadata": {},
          "execution_count": 7
        },
        {
          "output_type": "display_data",
          "data": {
            "text/plain": [
              "<Figure size 432x288 with 1 Axes>"
            ],
            "image/png": "[encoded data removed]"
          },
          "metadata": {
            "needs_background": "light"
          }
        }
      ]
    },
    {
      "cell_type": "code",
      "source": [
        "# It will also be useful to store and print out the shape of the data\n",
        "data_shape = data_dict['BPT'].shape\n",
        "print(data_shape)"
      ],
      "metadata": {
        "id": "k6E_4MivCoWQ",
        "outputId": "42197486-26cc-44e2-b8ab-073d0261b8a0",
        "colab": {
          "base_uri": "https://localhost:8080/"
        }
      },
      "execution_count": 8,
      "outputs": [
        {
          "output_type": "stream",
          "name": "stdout",
          "text": [
            "(360, 720)\n"
          ]
        }
      ]
    },
    {
      "cell_type": "markdown",
      "source": [
        "Now that we know how the resolution of our data, we can prepare a set of axis arrays. We will use these to organize the data we will feed into the dataset.\n",
        "\n",
        "###**Q3) Prepare the latitude and longitude arrays to be used as axes for our dataset**\n",
        "\n",
        "*Hint 1: You can build ordered numpy arrays using, e.g., [numpy.linspace](https://numpy.org/doc/stable/reference/generated/numpy.linspace.html) and [numpy.arange](https://numpy.org/doc/stable/reference/generated/numpy.arange.html)*\n",
        "\n",
        "*Hint 2: You can rely on the data_shape variable we loaded previously to know how many points you need along each axis*"
      ],
      "metadata": {
        "id": "aXyxepjm-N5z"
      }
    },
    {
      "cell_type": "code",
      "source": [
        "#Complete the code\n",
        "# Let's prepare the lat and lon axes for our data.\n",
        "lat = np.linspace(0, 359, 360)\n",
        "lon = np.linspace(0,719, 720)"
      ],
      "metadata": {
        "id": "vwzO0ZWMNHKg"
      },
      "execution_count": 9,
      "outputs": []
    },
    {
      "cell_type": "markdown",
      "source": [
        "Now that we have the axes we need, we can build xarray [*data arrays*](https://xarray.pydata.org/en/stable/generated/xarray.DataArray.html) for each data variable. Since we'll be doing it several times, let's go ahead and defined a function that does this for us!\n",
        "\n",
        "###**Q4) Define a function that takes in: 1) an array name, 2) a numpy array, 3) a lat vector, and 4) a lon vector. The function should return a dataArray with lat-lon as the coordinate dimensions**"
      ],
      "metadata": {
        "id": "yxnAU_gjOqVo"
      }
    },
    {
      "cell_type": "code",
      "source": [
        "#Complete the code\n",
        "def np_to_xr(array_name, array, lat, lon):\n",
        "    #building the xarrray\n",
        "    da = xr.DataArray(data = array, # Data to be stored\n",
        "                  \n",
        "                  #set the name of dimensions for the dataArray \n",
        "                  dims = ['lat', 'lon'],\n",
        "                  \n",
        "                  #Set the dictionary pointing the name dimensions to np arrays \n",
        "                  coords = {'lat':lat,\n",
        "                            'lon':lon},\n",
        "                      \n",
        "                  name= array_name)\n",
        "    return da"
      ],
      "metadata": {
        "id": "7FCXLhYfPiQD"
      },
      "execution_count": 20,
      "outputs": []
    },
    {
      "cell_type": "markdown",
      "source": [
        "We're now ready to build our data array! Let's iterate through the items and merge our blank dataset with the data arrays we create.\n",
        "\n",
        "###**Q5) Build the dataset from the data dictionary**\n",
        "\n",
        "*Hint: We'll be using the xarray merge command to put everything together.*"
      ],
      "metadata": {
        "id": "l9xgQaM9Rrv1"
      }
    },
    {
      "cell_type": "code",
      "source": [
        "# The code in the notebook assumes you named your dataset ds. Change it to \n",
        "# whatever you used!\n",
        "\n",
        "# Complete the code\n",
        "for key, item in data_dict.items():\n",
        "    # Let's make use of our np_to_xr function to get the data as a dataArray\n",
        "    da = np_to_xr(key, item, lat, lon)\n",
        "\n",
        "    # Merge the dataSet with the dataArray here!\n",
        "    blank = xr.merge( [blank, da] )"
      ],
      "metadata": {
        "id": "4pLXUfvLSZKf"
      },
      "execution_count": 39,
      "outputs": []
    },
    {
      "cell_type": "markdown",
      "source": [
        "Congratulations! You should now have a nicely set up xarray dataset. This let's you access a ton of nice features, e.g.:\n",
        "> Data plotting by calling, e.g., `ds.BPT.plot.imshow(cmap='ocean')`\n",
        "> \n",
        "> Find statistical measures of all variables at once! (e.g.: `ds.std()`, `ds.mean()`)"
      ],
      "metadata": {
        "id": "aC1Gq_q7WEWc"
      }
    },
    {
      "cell_type": "code",
      "source": [
        "# Play around with the dataset here if you'd like :)"
      ],
      "metadata": {
        "id": "uag0JpWzaaS-"
      },
      "execution_count": null,
      "outputs": []
    },
    {
      "cell_type": "code",
      "source": [
        "ds = blank # Rename it to fit template and cuz it's not blank anymore"
      ],
      "metadata": {
        "id": "l6v8Um9rYd4t"
      },
      "execution_count": 41,
      "outputs": []
    },
    {
      "cell_type": "markdown",
      "source": [
        "Now we want to find clusters of data considering each grid point as a datapoint with 5 dimensional data. However, we went through a lot of work to get the data nicely associated with a lat and lon - do we really want to undo that?\n",
        "\n",
        "Luckily, xarray developers foresaw the need to group dimensions together. Let's create a 'flat' version of our dataset using the [`stack`](https://xarray.pydata.org/en/stable/generated/xarray.DataArray.stack.html) method. Let's make a flattened version of our dataset.\n",
        "\n",
        "###**Q6) Store a flattened version of our dataset**\n",
        "\n",
        "*Hint 1: You'll need to pass a dictionary with the 'new' stacked dimension name as the key and the 'flattened' dimensions as the values.*\n",
        "\n",
        "*Hint 2: xarrays have a ['.values' attribute](https://xarray.pydata.org/en/stable/generated/xarray.DataArray.values.html) that return their data as a numpy array.*"
      ],
      "metadata": {
        "id": "vEfuD2O8aZ4w"
      }
    },
    {
      "cell_type": "code",
      "source": [
        "# Complete the code\n",
        "# Let's store the stacked version of our dataset\n",
        "stacked = ds.stack(z=('lat','lon'))"
      ],
      "metadata": {
        "id": "AycJ5myEeDph"
      },
      "execution_count": 46,
      "outputs": []
    },
    {
      "cell_type": "code",
      "source": [
        "# And verify the shape of our data\n",
        "print(stacked.to_array().values.shape)"
      ],
      "metadata": {
        "id": "UQt4-fFACtUm",
        "outputId": "53f2ccd8-7b85-4e00-b80d-0c276d3cf905",
        "colab": {
          "base_uri": "https://localhost:8080/"
        }
      },
      "execution_count": 47,
      "outputs": [
        {
          "output_type": "stream",
          "name": "stdout",
          "text": [
            "(7, 259200)\n"
          ]
        }
      ]
    },
    {
      "cell_type": "markdown",
      "source": [
        "So far we've ignored an important point - we're supposed to have 5 variables, not 6! As you may have guessed, `noiseMask` helps us throw away data we dont want (e.g., from land mass or bad pixels). \n",
        "\n",
        "We're now going to clean up the stacked dataset using the noise mask. Relax and read through the code, since there won't be a question in this part :) "
      ],
      "metadata": {
        "id": "MZGPnmooffKy"
      }
    },
    {
      "cell_type": "code",
      "source": [
        "# Let's redefine stacked as all the points where noiseMask = 1, since noisemask\n",
        "# is binary data.\n",
        "\n",
        "print(f'Dataset shape before processing: {stacked.to_array().values.shape}')\n",
        "\n",
        "print(\"Let's do some data cleaning!\")\n",
        "print(f'Points before cleaning: {len(stacked.BPT)}')\n",
        "stacked = stacked.where(stacked.noiseMask==1, drop=True)\n",
        "print(f'Points after cleaning: {len(stacked.BPT)}')"
      ],
      "metadata": {
        "id": "sbXscaE_fcOj",
        "outputId": "a87bcea0-458a-4032-bbbe-603d51244208",
        "colab": {
          "base_uri": "https://localhost:8080/"
        }
      },
      "execution_count": 48,
      "outputs": [
        {
          "output_type": "stream",
          "name": "stdout",
          "text": [
            "Dataset shape before processing: (7, 259200)\n",
            "Let's do some data cleaning!\n",
            "Points before cleaning: 259200\n",
            "Points after cleaning: 149714\n"
          ]
        }
      ]
    },
    {
      "cell_type": "code",
      "source": [
        "# We also no longer need the noiseMask variable, so we can just drop it.\n",
        "\n",
        "print('And drop the noisemask variable...')\n",
        "print(f'Before dropping: {stacked.to_array().values.shape}')\n",
        "stacked = stacked.drop('noiseMask')\n",
        "print(f'Dataset shape after processing: {stacked.to_array().values.shape}')"
      ],
      "metadata": {
        "id": "crX5HoD3C3Ls",
        "outputId": "fb212ba6-36d8-4aeb-c204-75de5e9bd2ce",
        "colab": {
          "base_uri": "https://localhost:8080/"
        }
      },
      "execution_count": 49,
      "outputs": [
        {
          "output_type": "stream",
          "name": "stdout",
          "text": [
            "And drop the noisemask variable...\n",
            "Before dropping: (7, 149714)\n",
            "Dataset shape after processing: (6, 149714)\n"
          ]
        }
      ]
    },
    {
      "cell_type": "markdown",
      "source": [
        "We now have several thousand points which we want to divide into clusters using the kmeans clustering algorithm (you can check out the documentation for scikit's implementation of kmeans [here](https://scikit-learn.org/stable/modules/generated/sklearn.cluster.KMeans.html)).\n",
        "\n",
        "You'll note that the algorithm expects the input data `X` to be fed as `(n_samples, n_features)`. This is the opposite of what we have! Let's go ahead and make a copy to a numpy array has the axes in the right order.\n",
        "\n",
        "You'll need xarray's [`.to_array()`](https://xarray.pydata.org/en/stable/generated/xarray.Dataset.to_array.html) method and [`.values`](https://xarray.pydata.org/en/stable/generated/xarray.DataArray.values.html) parameter, as well as numpy's [`.moveaxis`](https://numpy.org/doc/stable/reference/generated/numpy.moveaxis.html) method.\n",
        "\n",
        "###**Q7) Load the datapoints into a numpy array following the convention where the 0th axis corresponds to the samples and the 1st axis corresponds to the features.** "
      ],
      "metadata": {
        "id": "5Pol90vsU_wv"
      }
    },
    {
      "cell_type": "code",
      "source": [
        "# Complete the code\n",
        "input_data = np.moveaxis(stacked.drop('clusters').to_array().values,  # data to reshape. Note that cluster is dropped since not needed for training\n",
        "                         0,          # source axis as integer, \n",
        "                         1)          # destination axis as integer"
      ],
      "metadata": {
        "id": "uu0AVVkPeTzC"
      },
      "execution_count": 68,
      "outputs": []
    },
    {
      "cell_type": "code",
      "source": [
        "# Does the input data look the way it's supposed to? Print the shape.\n",
        "print(input_data.shape)"
      ],
      "metadata": {
        "id": "Vi9GZ-XsC6Nd",
        "outputId": "43fbda78-a9fb-469f-ec8f-1ec23f18e7fc",
        "colab": {
          "base_uri": "https://localhost:8080/"
        }
      },
      "execution_count": 69,
      "outputs": [
        {
          "output_type": "stream",
          "name": "stdout",
          "text": [
            "(149714, 5)\n"
          ]
        }
      ]
    },
    {
      "cell_type": "markdown",
      "source": [
        "In previous classes we discussed the importance of the scaling the data before implementing our algorithms. Now that our data is all but ready to be fed into an algorithm, let's make sure that it's been scaled.\n",
        "\n",
        "###**Q8) Scale the input data**\n",
        "\n",
        "*Hint 1: Import the [`StandardScaler`](https://scikit-learn.org/stable/modules/generated/sklearn.preprocessing.StandardScaler.html) class from scikit and instantiate it*\n",
        "\n",
        "*Hint 2: Update the input array to the one returned by the [`.fit_transform(X)`](https://scikit-learn.org/stable/modules/generated/sklearn.preprocessing.StandardScaler.html#sklearn.preprocessing.StandardScaler.fit_transform) method*"
      ],
      "metadata": {
        "id": "AoZSkMieiL9O"
      }
    },
    {
      "cell_type": "code",
      "source": [
        "#Write your scaling code here\n",
        "from sklearn.preprocessing import StandardScaler\n",
        "scaler = StandardScaler()\n",
        "input_scaled = scaler.fit_transform(input_data)"
      ],
      "metadata": {
        "id": "D2sZPWf1ignO"
      },
      "execution_count": 70,
      "outputs": []
    },
    {
      "cell_type": "markdown",
      "source": [
        "Now we're finally ready to train our algorithm! Let's load up the kmeans model and find clusters in our data.\n",
        "\n",
        "###**Q9) Instantiate the kmeans clustering algorithm, and then fit it using 50 clusters, trying out 10 different initial centroids.**\n",
        "\n",
        "*Hint 1: `sklearn.cluster` was imported as `cluser` during the notebook setup! [Here is the scikit `KMeans` documentation](https://scikit-learn.org/stable/modules/generated/sklearn.cluster.KMeans.html).*\n",
        "\n",
        "*Hint 2: Use the `fit_predict` method to organize the data into clusters*\n",
        "\n",
        "*Warning! : Fitting the data may take some time (under a minute during the testing of the notebook)"
      ],
      "metadata": {
        "id": "_z3e6dU8rInv"
      }
    },
    {
      "cell_type": "code",
      "source": [
        "# Complete the code\n",
        "kmeans = cluster.KMeans(n_clusters =50,  # Number of clusters\n",
        "                        random_state =42, # setting a random state\n",
        "                        n_init =10, # Number of initial centroid states to try\n",
        "                       verbose = 1)   # Verbosity so we know things are working"
      ],
      "metadata": {
        "id": "DtYyiksRrHPm"
      },
      "execution_count": 71,
      "outputs": []
    },
    {
      "cell_type": "code",
      "source": [
        "cluster_labels = kmeans.fit_predict(input_data) # Feed in out scaled input data!"
      ],
      "metadata": {
        "id": "ohuw1WFiC8kS",
        "outputId": "01f1d625-da34-43f3-9d79-11dbc2be5449",
        "colab": {
          "base_uri": "https://localhost:8080/"
        }
      },
      "execution_count": 72,
      "outputs": [
        {
          "output_type": "stream",
          "name": "stdout",
          "text": [
            "Initialization complete\n",
            "Iteration 0, inertia 9.631870053226431e-14\n",
            "Iteration 1, inertia 8.724168823493887e-14\n",
            "Iteration 2, inertia 8.562213205933939e-14\n",
            "Iteration 3, inertia 8.495394239323814e-14\n",
            "Iteration 4, inertia 8.454291173570768e-14\n",
            "Iteration 5, inertia 8.431898354010754e-14\n",
            "Iteration 6, inertia 8.414188257885023e-14\n",
            "Iteration 7, inertia 8.400848159521978e-14\n",
            "Iteration 8, inertia 8.3841692972144e-14\n",
            "Iteration 9, inertia 8.368390842409504e-14\n",
            "Iteration 10, inertia 8.352556443616189e-14\n",
            "Iteration 11, inertia 8.328151707055584e-14\n",
            "Iteration 12, inertia 8.319851366050286e-14\n",
            "Iteration 13, inertia 8.310864174045418e-14\n",
            "Iteration 14, inertia 8.305164906207215e-14\n",
            "Iteration 15, inertia 8.30053518758881e-14\n",
            "Iteration 16, inertia 8.295110902196995e-14\n",
            "Iteration 17, inertia 8.289690561815442e-14\n",
            "Iteration 18, inertia 8.284494598671515e-14\n",
            "Iteration 19, inertia 8.279237703456412e-14\n",
            "Iteration 20, inertia 8.272433582103259e-14\n",
            "Iteration 21, inertia 8.264094108647598e-14\n",
            "Iteration 22, inertia 8.255888873648909e-14\n",
            "Iteration 23, inertia 8.248763933705309e-14\n",
            "Iteration 24, inertia 8.240716719986732e-14\n",
            "Iteration 25, inertia 8.234311746594762e-14\n",
            "Iteration 26, inertia 8.228691856880664e-14\n",
            "Iteration 27, inertia 8.223900647578247e-14\n",
            "Iteration 28, inertia 8.220490316508395e-14\n",
            "Iteration 29, inertia 8.217601913032962e-14\n",
            "Iteration 30, inertia 8.213790771779064e-14\n",
            "Iteration 31, inertia 8.210375384721576e-14\n",
            "Iteration 32, inertia 8.205111549178192e-14\n",
            "Iteration 33, inertia 8.200718803967157e-14\n",
            "Iteration 34, inertia 8.197842419651712e-14\n",
            "Iteration 35, inertia 8.195486944980675e-14\n",
            "Iteration 36, inertia 8.193095380946417e-14\n",
            "Iteration 37, inertia 8.189968765723791e-14\n",
            "Iteration 38, inertia 8.186337292474802e-14\n",
            "Iteration 39, inertia 8.18341546608896e-14\n",
            "Iteration 40, inertia 8.180374286880034e-14\n",
            "Iteration 41, inertia 8.178206620381306e-14\n",
            "Iteration 42, inertia 8.175604927885653e-14\n",
            "Iteration 43, inertia 8.172441588647854e-14\n",
            "Iteration 44, inertia 8.168325904372482e-14\n",
            "Iteration 45, inertia 8.165508571727179e-14\n",
            "Iteration 46, inertia 8.162137455408356e-14\n",
            "Iteration 47, inertia 8.157260027852067e-14\n",
            "Iteration 48, inertia 8.152062504929099e-14\n",
            "Iteration 49, inertia 8.145433474078922e-14\n",
            "Iteration 50, inertia 8.140564384215303e-14\n",
            "Iteration 51, inertia 8.138517311389672e-14\n",
            "Iteration 52, inertia 8.136283670848074e-14\n",
            "Iteration 53, inertia 8.133318967092276e-14\n",
            "Iteration 54, inertia 8.130065978286895e-14\n",
            "Iteration 55, inertia 8.128260656053513e-14\n",
            "Iteration 56, inertia 8.126113743898248e-14\n",
            "Iteration 57, inertia 8.1225372310273e-14\n",
            "Iteration 58, inertia 8.121330496136608e-14\n",
            "Iteration 59, inertia 8.120773650057174e-14\n",
            "Iteration 60, inertia 8.120525856272384e-14\n",
            "Iteration 61, inertia 8.120271495049988e-14\n",
            "Iteration 62, inertia 8.119992193959009e-14\n",
            "Iteration 63, inertia 8.119642168425624e-14\n",
            "Iteration 64, inertia 8.119220644403154e-14\n",
            "Iteration 65, inertia 8.118799528744004e-14\n",
            "Iteration 66, inertia 8.118430452766364e-14\n",
            "Iteration 67, inertia 8.118111006730933e-14\n",
            "Iteration 68, inertia 8.11788960226863e-14\n",
            "Iteration 69, inertia 8.11770633700833e-14\n",
            "Iteration 70, inertia 8.117481294040265e-14\n",
            "Iteration 71, inertia 8.117292598964892e-14\n",
            "Converged at iteration 71: center shift 1.8062938256568228e-22 within tolerance 2.0066891845865697e-22.\n",
            "Initialization complete\n",
            "Iteration 0, inertia 9.934134329917502e-14\n",
            "Iteration 1, inertia 8.70218789208051e-14\n",
            "Iteration 2, inertia 8.505320746244789e-14\n",
            "Iteration 3, inertia 8.401976122662502e-14\n",
            "Iteration 4, inertia 8.333374320574181e-14\n",
            "Iteration 5, inertia 8.281824528700932e-14\n",
            "Iteration 6, inertia 8.235937863622339e-14\n",
            "Iteration 7, inertia 8.193815826335083e-14\n",
            "Iteration 8, inertia 8.166253071735783e-14\n",
            "Iteration 9, inertia 8.137625395712392e-14\n",
            "Iteration 10, inertia 8.115114215992885e-14\n",
            "Iteration 11, inertia 8.101417296318504e-14\n",
            "Iteration 12, inertia 8.093510962729635e-14\n",
            "Iteration 13, inertia 8.086638660819423e-14\n",
            "Iteration 14, inertia 8.080708054074449e-14\n",
            "Iteration 15, inertia 8.074130130195484e-14\n",
            "Iteration 16, inertia 8.067251237256737e-14\n",
            "Iteration 17, inertia 8.060868277445433e-14\n",
            "Iteration 18, inertia 8.055271239014576e-14\n",
            "Iteration 19, inertia 8.049656521633478e-14\n",
            "Iteration 20, inertia 8.044944359623407e-14\n",
            "Iteration 21, inertia 8.041258945994106e-14\n",
            "Iteration 22, inertia 8.03840716190307e-14\n",
            "Iteration 23, inertia 8.035461795725441e-14\n",
            "Iteration 24, inertia 8.032458817768646e-14\n",
            "Iteration 25, inertia 8.029186153598951e-14\n",
            "Iteration 26, inertia 8.024565726654714e-14\n",
            "Iteration 27, inertia 8.019787605111875e-14\n",
            "Iteration 28, inertia 8.016290116217372e-14\n",
            "Iteration 29, inertia 8.01293737457525e-14\n",
            "Iteration 30, inertia 8.008760554585296e-14\n",
            "Iteration 31, inertia 8.003979583387008e-14\n",
            "Iteration 32, inertia 7.998458225686172e-14\n",
            "Iteration 33, inertia 7.98852755527313e-14\n",
            "Iteration 34, inertia 7.984805418618273e-14\n",
            "Iteration 35, inertia 7.980505953105526e-14\n",
            "Iteration 36, inertia 7.975849641012572e-14\n",
            "Iteration 37, inertia 7.973599677946979e-14\n",
            "Iteration 38, inertia 7.971656905746111e-14\n",
            "Iteration 39, inertia 7.970160485473324e-14\n",
            "Iteration 40, inertia 7.968860013966873e-14\n",
            "Iteration 41, inertia 7.967638420553332e-14\n",
            "Iteration 42, inertia 7.966758982642514e-14\n",
            "Iteration 43, inertia 7.966095516535998e-14\n",
            "Iteration 44, inertia 7.965475164073536e-14\n",
            "Iteration 45, inertia 7.964879032793787e-14\n",
            "Iteration 46, inertia 7.964400826133193e-14\n",
            "Iteration 47, inertia 7.964017319031959e-14\n",
            "Iteration 48, inertia 7.962953568304117e-14\n",
            "Iteration 49, inertia 7.962717408028115e-14\n",
            "Iteration 50, inertia 7.962407063217175e-14\n",
            "Iteration 51, inertia 7.962100613768763e-14\n",
            "Iteration 52, inertia 7.961872900045509e-14\n",
            "Iteration 53, inertia 7.961018441342687e-14\n",
            "Iteration 54, inertia 7.960808566170754e-14\n",
            "Iteration 55, inertia 7.960683548504951e-14\n",
            "Iteration 56, inertia 7.960613623494363e-14\n",
            "Iteration 57, inertia 7.960552053270212e-14\n",
            "Iteration 58, inertia 7.960490065750891e-14\n",
            "Iteration 59, inertia 7.96024940626217e-14\n",
            "Iteration 60, inertia 7.960122770859122e-14\n",
            "Iteration 61, inertia 7.960066175026827e-14\n",
            "Iteration 62, inertia 7.960031154887771e-14\n",
            "Iteration 63, inertia 7.960010235205151e-14\n",
            "Iteration 64, inertia 7.959990730605847e-14\n",
            "Iteration 65, inertia 7.959958563669953e-14\n",
            "Iteration 66, inertia 7.959878522291271e-14\n",
            "Iteration 67, inertia 7.959805477742123e-14\n",
            "Iteration 68, inertia 7.959772548032131e-14\n",
            "Converged at iteration 68: center shift 5.517081024080743e-23 within tolerance 2.0066891845865697e-22.\n",
            "Initialization complete\n",
            "Iteration 0, inertia 9.549442027562443e-14\n",
            "Iteration 1, inertia 8.523509187769572e-14\n",
            "Iteration 2, inertia 8.295127505469595e-14\n",
            "Iteration 3, inertia 8.146913527334784e-14\n",
            "Iteration 4, inertia 8.079809557401721e-14\n",
            "Iteration 5, inertia 8.035977333016728e-14\n",
            "Iteration 6, inertia 8.007734832991396e-14\n",
            "Iteration 7, inertia 7.980574137393883e-14\n",
            "Iteration 8, inertia 7.956736624456312e-14\n",
            "Iteration 9, inertia 7.936155169266721e-14\n",
            "Iteration 10, inertia 7.920090976838204e-14\n",
            "Iteration 11, inertia 7.909338663653808e-14\n",
            "Iteration 12, inertia 7.899311635366172e-14\n",
            "Iteration 13, inertia 7.892316246653734e-14\n",
            "Iteration 14, inertia 7.886632089501023e-14\n",
            "Iteration 15, inertia 7.882001791574018e-14\n",
            "Iteration 16, inertia 7.878127121073597e-14\n",
            "Iteration 17, inertia 7.875117934356903e-14\n",
            "Iteration 18, inertia 7.871501134868668e-14\n",
            "Iteration 19, inertia 7.868690209708075e-14\n",
            "Iteration 20, inertia 7.866042344055929e-14\n",
            "Iteration 21, inertia 7.864474042164683e-14\n",
            "Iteration 22, inertia 7.863458556606171e-14\n",
            "Iteration 23, inertia 7.862744390954654e-14\n",
            "Iteration 24, inertia 7.862276484486592e-14\n",
            "Iteration 25, inertia 7.862017912607817e-14\n",
            "Iteration 26, inertia 7.861688465772996e-14\n",
            "Iteration 27, inertia 7.861343144555116e-14\n",
            "Iteration 28, inertia 7.860966601490455e-14\n",
            "Iteration 29, inertia 7.860599901703662e-14\n",
            "Iteration 30, inertia 7.860204618177763e-14\n",
            "Iteration 31, inertia 7.859854333378684e-14\n",
            "Iteration 32, inertia 7.859547835116625e-14\n",
            "Iteration 33, inertia 7.85928652569855e-14\n",
            "Iteration 34, inertia 7.858964555929977e-14\n",
            "Iteration 35, inertia 7.85860405185513e-14\n",
            "Iteration 36, inertia 7.858237289299918e-14\n",
            "Iteration 37, inertia 7.857875541044132e-14\n",
            "Iteration 38, inertia 7.85744243183907e-14\n",
            "Iteration 39, inertia 7.856818148168176e-14\n",
            "Iteration 40, inertia 7.856246614837593e-14\n",
            "Iteration 41, inertia 7.85570464381889e-14\n",
            "Iteration 42, inertia 7.855255695205484e-14\n",
            "Iteration 43, inertia 7.854907607998721e-14\n",
            "Iteration 44, inertia 7.85459324908974e-14\n",
            "Iteration 45, inertia 7.854279432161356e-14\n",
            "Iteration 46, inertia 7.853922649565106e-14\n",
            "Iteration 47, inertia 7.853523075017686e-14\n",
            "Iteration 48, inertia 7.853182492991183e-14\n",
            "Iteration 49, inertia 7.852820275627676e-14\n",
            "Iteration 50, inertia 7.852511468892812e-14\n",
            "Iteration 51, inertia 7.852256809308255e-14\n",
            "Iteration 52, inertia 7.851943132556427e-14\n",
            "Iteration 53, inertia 7.851669393900436e-14\n",
            "Iteration 54, inertia 7.85140250552188e-14\n",
            "Iteration 55, inertia 7.850996523015941e-14\n",
            "Iteration 56, inertia 7.850520015885299e-14\n",
            "Iteration 57, inertia 7.850111457723918e-14\n",
            "Iteration 58, inertia 7.849556982454447e-14\n",
            "Iteration 59, inertia 7.849141034674851e-14\n",
            "Iteration 60, inertia 7.848830054263165e-14\n",
            "Iteration 61, inertia 7.848531524710742e-14\n",
            "Iteration 62, inertia 7.848051052185562e-14\n",
            "Iteration 63, inertia 7.847478106734515e-14\n",
            "Iteration 64, inertia 7.847043596908554e-14\n",
            "Iteration 65, inertia 7.84660658431351e-14\n",
            "Iteration 66, inertia 7.846310712756555e-14\n",
            "Iteration 67, inertia 7.846091972363323e-14\n",
            "Iteration 68, inertia 7.845804494954604e-14\n",
            "Iteration 69, inertia 7.845554401336066e-14\n",
            "Iteration 70, inertia 7.845167996702807e-14\n",
            "Iteration 71, inertia 7.844657285328669e-14\n",
            "Iteration 72, inertia 7.844254781550186e-14\n",
            "Iteration 73, inertia 7.84391717666229e-14\n",
            "Iteration 74, inertia 7.843468115168446e-14\n",
            "Iteration 75, inertia 7.842910723419959e-14\n",
            "Iteration 76, inertia 7.842525219611541e-14\n",
            "Iteration 77, inertia 7.841980685789704e-14\n",
            "Iteration 78, inertia 7.841438244072856e-14\n",
            "Iteration 79, inertia 7.841057607377967e-14\n",
            "Iteration 80, inertia 7.840736891009031e-14\n",
            "Iteration 81, inertia 7.8404978218215e-14\n",
            "Iteration 82, inertia 7.840239097283115e-14\n",
            "Iteration 83, inertia 7.839879973373728e-14\n",
            "Iteration 84, inertia 7.839574654164955e-14\n",
            "Iteration 85, inertia 7.839375828756916e-14\n",
            "Iteration 86, inertia 7.839137275629124e-14\n",
            "Iteration 87, inertia 7.838896312637117e-14\n",
            "Iteration 88, inertia 7.83851482876985e-14\n",
            "Iteration 89, inertia 7.838098416991014e-14\n",
            "Iteration 90, inertia 7.837606034265925e-14\n",
            "Iteration 91, inertia 7.837219578317056e-14\n",
            "Iteration 92, inertia 7.836952448798226e-14\n",
            "Iteration 93, inertia 7.836741825007824e-14\n",
            "Iteration 94, inertia 7.836582583251321e-14\n",
            "Iteration 95, inertia 7.836454551756308e-14\n",
            "Iteration 96, inertia 7.836273044965346e-14\n",
            "Iteration 97, inertia 7.8360531405262e-14\n",
            "Iteration 98, inertia 7.835676439118525e-14\n",
            "Iteration 99, inertia 7.835115522857129e-14\n",
            "Iteration 100, inertia 7.834525845443639e-14\n",
            "Iteration 101, inertia 7.834000900084004e-14\n",
            "Iteration 102, inertia 7.833538295336078e-14\n",
            "Iteration 103, inertia 7.833014763929067e-14\n",
            "Iteration 104, inertia 7.832413784164632e-14\n",
            "Iteration 105, inertia 7.831940002009863e-14\n",
            "Iteration 106, inertia 7.831650509210552e-14\n",
            "Iteration 107, inertia 7.831422349838991e-14\n",
            "Iteration 108, inertia 7.831106280889362e-14\n",
            "Iteration 109, inertia 7.830850571455053e-14\n",
            "Iteration 110, inertia 7.830494228509207e-14\n",
            "Iteration 111, inertia 7.830248368135685e-14\n",
            "Iteration 112, inertia 7.830172287581775e-14\n",
            "Iteration 113, inertia 7.830122747932845e-14\n",
            "Converged at iteration 113: center shift 9.048177253542723e-23 within tolerance 2.0066891845865697e-22.\n",
            "Initialization complete\n",
            "Iteration 0, inertia 9.561632173740827e-14\n",
            "Iteration 1, inertia 8.370612104617551e-14\n",
            "Iteration 2, inertia 8.21815589376439e-14\n",
            "Iteration 3, inertia 8.128196605716145e-14\n",
            "Iteration 4, inertia 8.077116814304514e-14\n",
            "Iteration 5, inertia 8.036997718884052e-14\n",
            "Iteration 6, inertia 8.006084825366802e-14\n",
            "Iteration 7, inertia 7.987050207246328e-14\n",
            "Iteration 8, inertia 7.971804036687482e-14\n",
            "Iteration 9, inertia 7.954893861535965e-14\n",
            "Iteration 10, inertia 7.935599491971559e-14\n",
            "Iteration 11, inertia 7.924996401845727e-14\n",
            "Iteration 12, inertia 7.913939587286304e-14\n",
            "Iteration 13, inertia 7.905843885940823e-14\n",
            "Iteration 14, inertia 7.896790317998153e-14\n",
            "Iteration 15, inertia 7.886518724954153e-14\n",
            "Iteration 16, inertia 7.877904298011885e-14\n",
            "Iteration 17, inertia 7.869187418379888e-14\n",
            "Iteration 18, inertia 7.860761573398053e-14\n",
            "Iteration 19, inertia 7.853863990731631e-14\n",
            "Iteration 20, inertia 7.850322530637905e-14\n",
            "Iteration 21, inertia 7.848188289412135e-14\n",
            "Iteration 22, inertia 7.846732988532981e-14\n",
            "Iteration 23, inertia 7.845390562951693e-14\n",
            "Iteration 24, inertia 7.844095863146909e-14\n",
            "Iteration 25, inertia 7.84315388817986e-14\n",
            "Iteration 26, inertia 7.84236188022731e-14\n",
            "Iteration 27, inertia 7.841529957971232e-14\n",
            "Iteration 28, inertia 7.840227415839638e-14\n",
            "Iteration 29, inertia 7.839419795420498e-14\n",
            "Iteration 30, inertia 7.839000115199345e-14\n",
            "Iteration 31, inertia 7.838624221186416e-14\n",
            "Iteration 32, inertia 7.838016538044977e-14\n",
            "Iteration 33, inertia 7.83715775276683e-14\n",
            "Iteration 34, inertia 7.835894804417349e-14\n",
            "Iteration 35, inertia 7.834922423711021e-14\n",
            "Iteration 36, inertia 7.83399319266201e-14\n",
            "Iteration 37, inertia 7.832949746987479e-14\n",
            "Iteration 38, inertia 7.832159737135477e-14\n",
            "Iteration 39, inertia 7.831473954821805e-14\n",
            "Iteration 40, inertia 7.830856094101481e-14\n",
            "Iteration 41, inertia 7.830324017649378e-14\n",
            "Iteration 42, inertia 7.829978765267307e-14\n",
            "Iteration 43, inertia 7.829702646678737e-14\n",
            "Iteration 44, inertia 7.829504163811704e-14\n",
            "Iteration 45, inertia 7.829274806032703e-14\n",
            "Iteration 46, inertia 7.829046596047781e-14\n",
            "Iteration 47, inertia 7.828836389638035e-14\n",
            "Iteration 48, inertia 7.828618228612268e-14\n",
            "Iteration 49, inertia 7.828449819142973e-14\n",
            "Iteration 50, inertia 7.828297463934266e-14\n",
            "Iteration 51, inertia 7.828146640318394e-14\n",
            "Iteration 52, inertia 7.827919812947521e-14\n",
            "Iteration 53, inertia 7.827698393359817e-14\n",
            "Iteration 54, inertia 7.827513111097565e-14\n",
            "Iteration 55, inertia 7.827343799700892e-14\n",
            "Iteration 56, inertia 7.827058097475489e-14\n",
            "Iteration 57, inertia 7.826798259157386e-14\n",
            "Iteration 58, inertia 7.826649790997061e-14\n",
            "Iteration 59, inertia 7.826531095498574e-14\n",
            "Iteration 60, inertia 7.826420245515166e-14\n",
            "Iteration 61, inertia 7.826199965624754e-14\n",
            "Iteration 62, inertia 7.825855736142523e-14\n",
            "Iteration 63, inertia 7.82566319759778e-14\n",
            "Iteration 64, inertia 7.825440138729111e-14\n",
            "Iteration 65, inertia 7.825134893176701e-14\n",
            "Iteration 66, inertia 7.824999418810557e-14\n",
            "Iteration 67, inertia 7.824938710295115e-14\n",
            "Iteration 68, inertia 7.824875642970732e-14\n",
            "Iteration 69, inertia 7.82483561543131e-14\n",
            "Iteration 70, inertia 7.824801575493026e-14\n",
            "Converged at iteration 70: center shift 5.681878264725786e-23 within tolerance 2.0066891845865697e-22.\n",
            "Initialization complete\n",
            "Iteration 0, inertia 9.72436094020829e-14\n",
            "Iteration 1, inertia 8.465314194808376e-14\n",
            "Iteration 2, inertia 8.265394687932709e-14\n",
            "Iteration 3, inertia 8.168344708516699e-14\n",
            "Iteration 4, inertia 8.097254016726608e-14\n",
            "Iteration 5, inertia 8.048970784144393e-14\n",
            "Iteration 6, inertia 8.018223627546829e-14\n",
            "Iteration 7, inertia 8.002633204104222e-14\n",
            "Iteration 8, inertia 7.98593890013684e-14\n",
            "Iteration 9, inertia 7.973900380713689e-14\n",
            "Iteration 10, inertia 7.964851625702319e-14\n",
            "Iteration 11, inertia 7.957799855072346e-14\n",
            "Iteration 12, inertia 7.952420067368898e-14\n",
            "Iteration 13, inertia 7.948087884198542e-14\n",
            "Iteration 14, inertia 7.944325397854671e-14\n",
            "Iteration 15, inertia 7.94118552081139e-14\n",
            "Iteration 16, inertia 7.938449631636315e-14\n",
            "Iteration 17, inertia 7.935412880464788e-14\n",
            "Iteration 18, inertia 7.933379940125917e-14\n",
            "Iteration 19, inertia 7.932175035735164e-14\n",
            "Iteration 20, inertia 7.931101356252184e-14\n",
            "Iteration 21, inertia 7.930257990538141e-14\n",
            "Iteration 22, inertia 7.929523577985259e-14\n",
            "Iteration 23, inertia 7.928724294459981e-14\n",
            "Iteration 24, inertia 7.927819044693707e-14\n",
            "Iteration 25, inertia 7.926417472422775e-14\n",
            "Iteration 26, inertia 7.924603926653032e-14\n",
            "Iteration 27, inertia 7.923289755691356e-14\n",
            "Iteration 28, inertia 7.921767746512907e-14\n",
            "Iteration 29, inertia 7.920767140494825e-14\n",
            "Iteration 30, inertia 7.918945544818514e-14\n",
            "Iteration 31, inertia 7.916386266224074e-14\n",
            "Iteration 32, inertia 7.914632192475346e-14\n",
            "Iteration 33, inertia 7.913839597917722e-14\n",
            "Iteration 34, inertia 7.913137933129154e-14\n",
            "Iteration 35, inertia 7.912403076396583e-14\n",
            "Iteration 36, inertia 7.911453049651403e-14\n",
            "Iteration 37, inertia 7.909404544185584e-14\n",
            "Iteration 38, inertia 7.908141530570182e-14\n",
            "Iteration 39, inertia 7.906619975546733e-14\n",
            "Iteration 40, inertia 7.905804830507494e-14\n",
            "Iteration 41, inertia 7.905173613811598e-14\n",
            "Iteration 42, inertia 7.90462015431327e-14\n",
            "Iteration 43, inertia 7.903820525960536e-14\n",
            "Iteration 44, inertia 7.903170115712123e-14\n",
            "Iteration 45, inertia 7.902694742786545e-14\n",
            "Iteration 46, inertia 7.902272227171925e-14\n",
            "Iteration 47, inertia 7.901944030613373e-14\n",
            "Iteration 48, inertia 7.901643930009053e-14\n",
            "Iteration 49, inertia 7.901328692516716e-14\n",
            "Iteration 50, inertia 7.901072531743125e-14\n",
            "Iteration 51, inertia 7.900893492751674e-14\n",
            "Iteration 52, inertia 7.900739270439951e-14\n",
            "Iteration 53, inertia 7.900637596491964e-14\n",
            "Converged at iteration 53: center shift 1.2984051436750188e-22 within tolerance 2.0066891845865697e-22.\n",
            "Initialization complete\n",
            "Iteration 0, inertia 9.69425562192504e-14\n",
            "Iteration 1, inertia 8.438535456158972e-14\n",
            "Iteration 2, inertia 8.225951364702732e-14\n",
            "Iteration 3, inertia 8.130302874042765e-14\n",
            "Iteration 4, inertia 8.077789922356334e-14\n",
            "Iteration 5, inertia 8.038027742216793e-14\n",
            "Iteration 6, inertia 8.01298398997834e-14\n",
            "Iteration 7, inertia 7.996616019421649e-14\n",
            "Iteration 8, inertia 7.98223339645524e-14\n",
            "Iteration 9, inertia 7.968138427742962e-14\n",
            "Iteration 10, inertia 7.956281194080682e-14\n",
            "Iteration 11, inertia 7.946220785130572e-14\n",
            "Iteration 12, inertia 7.938921027119425e-14\n",
            "Iteration 13, inertia 7.932581893706871e-14\n",
            "Iteration 14, inertia 7.928149776219987e-14\n",
            "Iteration 15, inertia 7.925478660704643e-14\n",
            "Iteration 16, inertia 7.923216129418528e-14\n",
            "Iteration 17, inertia 7.921296900181204e-14\n",
            "Iteration 18, inertia 7.919546952383255e-14\n",
            "Iteration 19, inertia 7.917875058238799e-14\n",
            "Iteration 20, inertia 7.916027986365695e-14\n",
            "Iteration 21, inertia 7.914185943504925e-14\n",
            "Iteration 22, inertia 7.91296603074947e-14\n",
            "Iteration 23, inertia 7.911728150875317e-14\n",
            "Iteration 24, inertia 7.910296934765253e-14\n",
            "Iteration 25, inertia 7.908257943224817e-14\n",
            "Iteration 26, inertia 7.906611592505466e-14\n",
            "Iteration 27, inertia 7.905172478685632e-14\n",
            "Iteration 28, inertia 7.903714348435743e-14\n",
            "Iteration 29, inertia 7.901980659643339e-14\n",
            "Iteration 30, inertia 7.900015289543573e-14\n",
            "Iteration 31, inertia 7.897918613126647e-14\n",
            "Iteration 32, inertia 7.896050557897756e-14\n",
            "Iteration 33, inertia 7.893893343334396e-14\n",
            "Iteration 34, inertia 7.891851491532564e-14\n",
            "Iteration 35, inertia 7.890055295800268e-14\n",
            "Iteration 36, inertia 7.888268227090056e-14\n",
            "Iteration 37, inertia 7.886784123603332e-14\n",
            "Iteration 38, inertia 7.885226401476244e-14\n",
            "Iteration 39, inertia 7.88368410884757e-14\n",
            "Iteration 40, inertia 7.882555505946161e-14\n",
            "Iteration 41, inertia 7.881290084756181e-14\n",
            "Iteration 42, inertia 7.880062247532193e-14\n",
            "Iteration 43, inertia 7.878900440278956e-14\n",
            "Iteration 44, inertia 7.877925691594632e-14\n",
            "Iteration 45, inertia 7.876930374854685e-14\n",
            "Iteration 46, inertia 7.874303157406114e-14\n",
            "Iteration 47, inertia 7.869789456080428e-14\n",
            "Iteration 48, inertia 7.866002511394594e-14\n",
            "Iteration 49, inertia 7.860992369249664e-14\n",
            "Iteration 50, inertia 7.856332139464265e-14\n",
            "Iteration 51, inertia 7.853405883431579e-14\n",
            "Iteration 52, inertia 7.851436627153204e-14\n",
            "Iteration 53, inertia 7.848881322856638e-14\n",
            "Iteration 54, inertia 7.84581815498824e-14\n",
            "Iteration 55, inertia 7.84302990573892e-14\n",
            "Iteration 56, inertia 7.841535003231547e-14\n",
            "Iteration 57, inertia 7.84060788847733e-14\n",
            "Iteration 58, inertia 7.839440592633975e-14\n",
            "Iteration 59, inertia 7.838350920250021e-14\n",
            "Iteration 60, inertia 7.837599823132884e-14\n",
            "Iteration 61, inertia 7.837100623870393e-14\n",
            "Iteration 62, inertia 7.836688625453289e-14\n",
            "Iteration 63, inertia 7.836437936914515e-14\n",
            "Iteration 64, inertia 7.836281234429353e-14\n",
            "Iteration 65, inertia 7.836112973385902e-14\n",
            "Iteration 66, inertia 7.835947282774088e-14\n",
            "Iteration 67, inertia 7.835768505485605e-14\n",
            "Iteration 68, inertia 7.835673217505533e-14\n",
            "Iteration 69, inertia 7.835546213105316e-14\n",
            "Iteration 70, inertia 7.835446792406452e-14\n",
            "Iteration 71, inertia 7.835375358881815e-14\n",
            "Iteration 72, inertia 7.835252189510884e-14\n",
            "Iteration 73, inertia 7.834992600354466e-14\n",
            "Iteration 74, inertia 7.834799122197619e-14\n",
            "Iteration 75, inertia 7.834698684027077e-14\n",
            "Iteration 76, inertia 7.834440213928572e-14\n",
            "Iteration 77, inertia 7.834236873329289e-14\n",
            "Iteration 78, inertia 7.834033494598151e-14\n",
            "Iteration 79, inertia 7.833886751991155e-14\n",
            "Iteration 80, inertia 7.833802716574358e-14\n",
            "Iteration 81, inertia 7.833740426613358e-14\n",
            "Iteration 82, inertia 7.833671108608275e-14\n",
            "Iteration 83, inertia 7.833627709297061e-14\n",
            "Converged at iteration 83: center shift 1.9888687898504173e-22 within tolerance 2.0066891845865697e-22.\n",
            "Initialization complete\n",
            "Iteration 0, inertia 9.792749533694393e-14\n",
            "Iteration 1, inertia 8.574517590155928e-14\n",
            "Iteration 2, inertia 8.301309531430087e-14\n",
            "Iteration 3, inertia 8.192857986082488e-14\n",
            "Iteration 4, inertia 8.124834478776232e-14\n",
            "Iteration 5, inertia 8.069558027589465e-14\n",
            "Iteration 6, inertia 8.029835288093591e-14\n",
            "Iteration 7, inertia 7.998990728205546e-14\n",
            "Iteration 8, inertia 7.974693196047588e-14\n",
            "Iteration 9, inertia 7.955981630827412e-14\n",
            "Iteration 10, inertia 7.937681969784992e-14\n",
            "Iteration 11, inertia 7.923237697739534e-14\n",
            "Iteration 12, inertia 7.912913403008556e-14\n",
            "Iteration 13, inertia 7.904526700475355e-14\n",
            "Iteration 14, inertia 7.899067171447997e-14\n",
            "Iteration 15, inertia 7.894044170540268e-14\n",
            "Iteration 16, inertia 7.890269998924116e-14\n",
            "Iteration 17, inertia 7.887276193152232e-14\n",
            "Iteration 18, inertia 7.883855303861567e-14\n",
            "Iteration 19, inertia 7.880437805695385e-14\n",
            "Iteration 20, inertia 7.877576868289309e-14\n",
            "Iteration 21, inertia 7.875194904286136e-14\n",
            "Iteration 22, inertia 7.872779035611755e-14\n",
            "Iteration 23, inertia 7.870152523145202e-14\n",
            "Iteration 24, inertia 7.86736516167016e-14\n",
            "Iteration 25, inertia 7.865305015237803e-14\n",
            "Iteration 26, inertia 7.863708200623631e-14\n",
            "Iteration 27, inertia 7.86243059746796e-14\n",
            "Iteration 28, inertia 7.860674966029131e-14\n",
            "Iteration 29, inertia 7.858759708114649e-14\n",
            "Iteration 30, inertia 7.857402441678471e-14\n",
            "Iteration 31, inertia 7.85583798838151e-14\n",
            "Iteration 32, inertia 7.853693291326106e-14\n",
            "Iteration 33, inertia 7.852033232085844e-14\n",
            "Iteration 34, inertia 7.850209002652317e-14\n",
            "Iteration 35, inertia 7.848586941166905e-14\n",
            "Iteration 36, inertia 7.847549397378763e-14\n",
            "Iteration 37, inertia 7.846617498841362e-14\n",
            "Iteration 38, inertia 7.845874210200643e-14\n",
            "Iteration 39, inertia 7.845413711368127e-14\n",
            "Iteration 40, inertia 7.844996141230196e-14\n",
            "Iteration 41, inertia 7.844639544699326e-14\n",
            "Iteration 42, inertia 7.844359631971477e-14\n",
            "Iteration 43, inertia 7.844073868318765e-14\n",
            "Iteration 44, inertia 7.843771555611408e-14\n",
            "Iteration 45, inertia 7.843581435031863e-14\n",
            "Iteration 46, inertia 7.843438955476199e-14\n",
            "Iteration 47, inertia 7.843119945275269e-14\n",
            "Iteration 48, inertia 7.842815156048524e-14\n",
            "Iteration 49, inertia 7.84252859609553e-14\n",
            "Iteration 50, inertia 7.842338591946826e-14\n",
            "Iteration 51, inertia 7.842121960006935e-14\n",
            "Iteration 52, inertia 7.841914601383769e-14\n",
            "Iteration 53, inertia 7.841573792899683e-14\n",
            "Iteration 54, inertia 7.841104684200782e-14\n",
            "Iteration 55, inertia 7.840784340501719e-14\n",
            "Iteration 56, inertia 7.840407769895367e-14\n",
            "Iteration 57, inertia 7.839906862678293e-14\n",
            "Iteration 58, inertia 7.839662165957142e-14\n",
            "Iteration 59, inertia 7.839571579971662e-14\n",
            "Converged at iteration 59: center shift 1.0168179038268026e-22 within tolerance 2.0066891845865697e-22.\n",
            "Initialization complete\n",
            "Iteration 0, inertia 9.635811771275096e-14\n",
            "Iteration 1, inertia 8.338781938073673e-14\n",
            "Iteration 2, inertia 8.183092301397176e-14\n",
            "Iteration 3, inertia 8.123749415779968e-14\n",
            "Iteration 4, inertia 8.085869050895348e-14\n",
            "Iteration 5, inertia 8.055766088833006e-14\n",
            "Iteration 6, inertia 8.033126089582624e-14\n",
            "Iteration 7, inertia 8.018085860750802e-14\n",
            "Iteration 8, inertia 8.007107699072757e-14\n",
            "Iteration 9, inertia 7.996627166993556e-14\n",
            "Iteration 10, inertia 7.98947876137454e-14\n",
            "Iteration 11, inertia 7.984278197756185e-14\n",
            "Iteration 12, inertia 7.981007793392879e-14\n",
            "Iteration 13, inertia 7.977293687595948e-14\n",
            "Iteration 14, inertia 7.973312903499977e-14\n",
            "Iteration 15, inertia 7.969853455672376e-14\n",
            "Iteration 16, inertia 7.967079474283134e-14\n",
            "Iteration 17, inertia 7.963844157574186e-14\n",
            "Iteration 18, inertia 7.961148496186937e-14\n",
            "Iteration 19, inertia 7.959524565017628e-14\n",
            "Iteration 20, inertia 7.957561240370426e-14\n",
            "Iteration 21, inertia 7.954636463341721e-14\n",
            "Iteration 22, inertia 7.948485776327251e-14\n",
            "Iteration 23, inertia 7.943511164760092e-14\n",
            "Iteration 24, inertia 7.940492282888294e-14\n",
            "Iteration 25, inertia 7.937344627511944e-14\n",
            "Iteration 26, inertia 7.934537669770065e-14\n",
            "Iteration 27, inertia 7.931919360625936e-14\n",
            "Iteration 28, inertia 7.928830890954083e-14\n",
            "Iteration 29, inertia 7.92505007407047e-14\n",
            "Iteration 30, inertia 7.92183590773049e-14\n",
            "Iteration 31, inertia 7.918434457420149e-14\n",
            "Iteration 32, inertia 7.914545196668158e-14\n",
            "Iteration 33, inertia 7.909899259027361e-14\n",
            "Iteration 34, inertia 7.904872345523874e-14\n",
            "Iteration 35, inertia 7.89943833025511e-14\n",
            "Iteration 36, inertia 7.892737717452676e-14\n",
            "Iteration 37, inertia 7.886732145685529e-14\n",
            "Iteration 38, inertia 7.883421151202843e-14\n",
            "Iteration 39, inertia 7.881306548095437e-14\n",
            "Iteration 40, inertia 7.879561237451209e-14\n",
            "Iteration 41, inertia 7.87799469725341e-14\n",
            "Iteration 42, inertia 7.876192916028168e-14\n",
            "Iteration 43, inertia 7.874667009428406e-14\n",
            "Iteration 44, inertia 7.873263641986857e-14\n",
            "Iteration 45, inertia 7.872138844301554e-14\n",
            "Iteration 46, inertia 7.871507245906127e-14\n",
            "Iteration 47, inertia 7.870914050896107e-14\n",
            "Iteration 48, inertia 7.87048201844539e-14\n",
            "Iteration 49, inertia 7.870238669511105e-14\n",
            "Iteration 50, inertia 7.870048880422978e-14\n",
            "Iteration 51, inertia 7.869844565918274e-14\n",
            "Iteration 52, inertia 7.86969792354891e-14\n",
            "Iteration 53, inertia 7.869554220722211e-14\n",
            "Iteration 54, inertia 7.869461263440239e-14\n",
            "Converged at iteration 54: center shift 1.661853964981073e-22 within tolerance 2.0066891845865697e-22.\n",
            "Initialization complete\n",
            "Iteration 0, inertia 9.846203124042886e-14\n",
            "Iteration 1, inertia 8.472856821331164e-14\n",
            "Iteration 2, inertia 8.277402488637221e-14\n",
            "Iteration 3, inertia 8.182284723084544e-14\n",
            "Iteration 4, inertia 8.113845533453023e-14\n",
            "Iteration 5, inertia 8.060504780975768e-14\n",
            "Iteration 6, inertia 8.019949714016718e-14\n",
            "Iteration 7, inertia 7.98718583913658e-14\n",
            "Iteration 8, inertia 7.962646354840223e-14\n",
            "Iteration 9, inertia 7.939002528606259e-14\n",
            "Iteration 10, inertia 7.917723954657069e-14\n",
            "Iteration 11, inertia 7.899759593944232e-14\n",
            "Iteration 12, inertia 7.884929980381192e-14\n",
            "Iteration 13, inertia 7.871715250732887e-14\n",
            "Iteration 14, inertia 7.86343545070995e-14\n",
            "Iteration 15, inertia 7.856839968744807e-14\n",
            "Iteration 16, inertia 7.852192722404197e-14\n",
            "Iteration 17, inertia 7.848202440917973e-14\n",
            "Iteration 18, inertia 7.844712613255838e-14\n",
            "Iteration 19, inertia 7.84094028985316e-14\n",
            "Iteration 20, inertia 7.837393159552345e-14\n",
            "Iteration 21, inertia 7.833968622130963e-14\n",
            "Iteration 22, inertia 7.83178437763213e-14\n",
            "Iteration 23, inertia 7.830438039454199e-14\n",
            "Iteration 24, inertia 7.829286504120236e-14\n",
            "Iteration 25, inertia 7.828242069469488e-14\n",
            "Iteration 26, inertia 7.827284997688328e-14\n",
            "Iteration 27, inertia 7.826534189074248e-14\n",
            "Iteration 28, inertia 7.825783656076224e-14\n",
            "Iteration 29, inertia 7.825098558059115e-14\n",
            "Iteration 30, inertia 7.824508621585951e-14\n",
            "Iteration 31, inertia 7.823973337337556e-14\n",
            "Iteration 32, inertia 7.823363526322694e-14\n",
            "Iteration 33, inertia 7.822699955877098e-14\n",
            "Iteration 34, inertia 7.821929900871502e-14\n",
            "Iteration 35, inertia 7.821087458418316e-14\n",
            "Iteration 36, inertia 7.820108521784284e-14\n",
            "Iteration 37, inertia 7.818942256302677e-14\n",
            "Iteration 38, inertia 7.817808874721803e-14\n",
            "Iteration 39, inertia 7.816731582826867e-14\n",
            "Iteration 40, inertia 7.815583600907002e-14\n",
            "Iteration 41, inertia 7.81469089869918e-14\n",
            "Iteration 42, inertia 7.813919485992855e-14\n",
            "Iteration 43, inertia 7.813023499439988e-14\n",
            "Iteration 44, inertia 7.812273325362238e-14\n",
            "Iteration 45, inertia 7.811641899512814e-14\n",
            "Iteration 46, inertia 7.811258323719473e-14\n",
            "Iteration 47, inertia 7.811003964305315e-14\n",
            "Iteration 48, inertia 7.81071851845898e-14\n",
            "Iteration 49, inertia 7.810527792199954e-14\n",
            "Iteration 50, inertia 7.810393224139293e-14\n",
            "Iteration 51, inertia 7.81024662706317e-14\n",
            "Iteration 52, inertia 7.810134311120732e-14\n",
            "Iteration 53, inertia 7.81002885577637e-14\n",
            "Iteration 54, inertia 7.809949810562047e-14\n",
            "Converged at iteration 54: center shift 1.3285548754946976e-22 within tolerance 2.0066891845865697e-22.\n",
            "Initialization complete\n",
            "Iteration 0, inertia 9.858813578765972e-14\n",
            "Iteration 1, inertia 8.592880439913124e-14\n",
            "Iteration 2, inertia 8.379661236542698e-14\n",
            "Iteration 3, inertia 8.287742393500062e-14\n",
            "Iteration 4, inertia 8.223054282007734e-14\n",
            "Iteration 5, inertia 8.176293923932523e-14\n",
            "Iteration 6, inertia 8.144794100804273e-14\n",
            "Iteration 7, inertia 8.120838060902746e-14\n",
            "Iteration 8, inertia 8.097507018345546e-14\n",
            "Iteration 9, inertia 8.076996824618501e-14\n",
            "Iteration 10, inertia 8.061656955971761e-14\n",
            "Iteration 11, inertia 8.04334734309531e-14\n",
            "Iteration 12, inertia 8.033959675227737e-14\n",
            "Iteration 13, inertia 8.0261651774358e-14\n",
            "Iteration 14, inertia 8.01864772847199e-14\n",
            "Iteration 15, inertia 8.008294815503439e-14\n",
            "Iteration 16, inertia 7.994099609452956e-14\n",
            "Iteration 17, inertia 7.98119132644757e-14\n",
            "Iteration 18, inertia 7.971689894571831e-14\n",
            "Iteration 19, inertia 7.960434038474954e-14\n",
            "Iteration 20, inertia 7.95481080750947e-14\n",
            "Iteration 21, inertia 7.946702747525202e-14\n",
            "Iteration 22, inertia 7.935731596416659e-14\n",
            "Iteration 23, inertia 7.92788029957574e-14\n",
            "Iteration 24, inertia 7.922833733590862e-14\n",
            "Iteration 25, inertia 7.918580185772632e-14\n",
            "Iteration 26, inertia 7.91581190814433e-14\n",
            "Iteration 27, inertia 7.913375700079493e-14\n",
            "Iteration 28, inertia 7.911568859649262e-14\n",
            "Iteration 29, inertia 7.909789681224066e-14\n",
            "Iteration 30, inertia 7.908311190699506e-14\n",
            "Iteration 31, inertia 7.907131827466237e-14\n",
            "Iteration 32, inertia 7.90612571870039e-14\n",
            "Iteration 33, inertia 7.905099911388631e-14\n",
            "Iteration 34, inertia 7.904160332136403e-14\n",
            "Iteration 35, inertia 7.903089567849538e-14\n",
            "Iteration 36, inertia 7.902275073259255e-14\n",
            "Iteration 37, inertia 7.901397906543296e-14\n",
            "Iteration 38, inertia 7.900500045895074e-14\n",
            "Iteration 39, inertia 7.899785929753756e-14\n",
            "Iteration 40, inertia 7.899150710279486e-14\n",
            "Iteration 41, inertia 7.898511104865866e-14\n",
            "Iteration 42, inertia 7.89793482421413e-14\n",
            "Iteration 43, inertia 7.897320348382925e-14\n",
            "Iteration 44, inertia 7.896722016409416e-14\n",
            "Iteration 45, inertia 7.89611387374095e-14\n",
            "Iteration 46, inertia 7.895594815896789e-14\n",
            "Iteration 47, inertia 7.895015151855817e-14\n",
            "Iteration 48, inertia 7.894398658574007e-14\n",
            "Iteration 49, inertia 7.8938853361344e-14\n",
            "Iteration 50, inertia 7.893374588680498e-14\n",
            "Iteration 51, inertia 7.892737552777394e-14\n",
            "Iteration 52, inertia 7.892192400308975e-14\n",
            "Iteration 53, inertia 7.89152398678293e-14\n",
            "Iteration 54, inertia 7.890777438100285e-14\n",
            "Iteration 55, inertia 7.889944159745482e-14\n",
            "Iteration 56, inertia 7.888641737791477e-14\n",
            "Iteration 57, inertia 7.887485069722014e-14\n",
            "Iteration 58, inertia 7.886410113026223e-14\n",
            "Iteration 59, inertia 7.885536622680925e-14\n",
            "Iteration 60, inertia 7.884640670449346e-14\n",
            "Iteration 61, inertia 7.883937738231386e-14\n",
            "Iteration 62, inertia 7.883245691787439e-14\n",
            "Iteration 63, inertia 7.882084592194055e-14\n",
            "Iteration 64, inertia 7.881150337147572e-14\n",
            "Iteration 65, inertia 7.880541094141035e-14\n",
            "Iteration 66, inertia 7.879436986850535e-14\n",
            "Iteration 67, inertia 7.878416102353622e-14\n",
            "Iteration 68, inertia 7.877656318826284e-14\n",
            "Iteration 69, inertia 7.877024772420161e-14\n",
            "Iteration 70, inertia 7.87640294474968e-14\n",
            "Iteration 71, inertia 7.87567386145429e-14\n",
            "Iteration 72, inertia 7.874076122906857e-14\n",
            "Iteration 73, inertia 7.873255798400288e-14\n",
            "Iteration 74, inertia 7.872424482359003e-14\n",
            "Iteration 75, inertia 7.871865149415388e-14\n",
            "Iteration 76, inertia 7.87146021903455e-14\n",
            "Iteration 77, inertia 7.871171191284742e-14\n",
            "Iteration 78, inertia 7.870736628389143e-14\n",
            "Iteration 79, inertia 7.870249106457577e-14\n",
            "Iteration 80, inertia 7.869875547678951e-14\n",
            "Iteration 81, inertia 7.869662798274238e-14\n",
            "Iteration 82, inertia 7.869573077342529e-14\n",
            "Iteration 83, inertia 7.869493751161056e-14\n",
            "Iteration 84, inertia 7.869429714654277e-14\n",
            "Converged at iteration 84: center shift 1.4603392576960633e-22 within tolerance 2.0066891845865697e-22.\n"
          ]
        }
      ]
    },
    {
      "cell_type": "markdown",
      "source": [
        "We now have a set of cluster labels that group the data into 50 similar groups. Let's store it in our stacked dataset!"
      ],
      "metadata": {
        "id": "XZXYUggc8xex"
      }
    },
    {
      "cell_type": "code",
      "source": [
        "# Let's run this line\n",
        "stacked['clusters'].values = cluster_labels"
      ],
      "metadata": {
        "id": "aH0qNHM89GER"
      },
      "execution_count": 73,
      "outputs": []
    },
    {
      "cell_type": "markdown",
      "source": [
        "We now have a set of labels, but they're stored in a flattened array. Since we'd like to see the data as a map, we still have some work to do. Let's go back to a 2D representation of our values.\n",
        "\n",
        "###**Q10) Turn the flattened xarray back into a set of 2D fields**\n",
        "*Hint*: xarrays have an [`.unstack` method](https://xarray.pydata.org/en/stable/generated/xarray.DataArray.unstack.html) that you will find to be very useful for this."
      ],
      "metadata": {
        "id": "pFPN00oH9oI8"
      }
    },
    {
      "cell_type": "code",
      "source": [
        "# Complete the code:\n",
        "processed_ds = stacked.unstack()"
      ],
      "metadata": {
        "id": "lp1u28inKUNT"
      },
      "execution_count": 93,
      "outputs": []
    },
    {
      "cell_type": "code",
      "source": [
        "processed_ds"
      ],
      "metadata": {
        "id": "Mw7jnWEFnwhl",
        "outputId": "8c89d3ef-5c3e-4b31-f613-f430128d9f3e",
        "colab": {
          "base_uri": "https://localhost:8080/",
          "height": 329
        }
      },
      "execution_count": 94,
      "outputs": [
        {
          "output_type": "execute_result",
          "data": {
            "text/plain": [
              "<xarray.Dataset>\n",
              "Dimensions:   (lat: 339, lon: 720)\n",
              "Coordinates:\n",
              "  * lat       (lat) float64 21.0 22.0 23.0 24.0 25.0 ... 356.0 357.0 358.0 359.0\n",
              "  * lon       (lon) float64 0.0 1.0 2.0 3.0 4.0 ... 716.0 717.0 718.0 719.0\n",
              "Data variables:\n",
              "    clusters  (lat, lon) float64 32.0 16.0 36.0 31.0 ... 16.0 16.0 16.0 16.0\n",
              "    curlB     (lat, lon) float64 1.04e-10 1.175e-10 ... 1.279e-11 1.27e-11\n",
              "    curlCori  (lat, lon) float64 3.281e-10 -4.664e-10 ... -4.638e-10 -4.647e-10\n",
              "    curlA     (lat, lon) float64 2.86e-10 -4.171e-10 ... 1.166e-10 1.146e-10\n",
              "    BPT       (lat, lon) float64 -6.666e-10 9.296e-10 ... 3.496e-10 3.525e-10\n",
              "    curlTau   (lat, lon) float64 -5.138e-11 -1.638e-10 ... -1.358e-11 -1.348e-11"
            ],
            "text/html": [
              "<div><svg style=\"position: absolute; width: 0; height: 0; overflow: hidden\">\n",
              "<defs>\n",
              "<symbol id=\"icon-database\" viewBox=\"0 0 32 32\">\n",
              "<path d=\"M16 0c-8.837 0-16 2.239-16 5v4c0 2.761 7.163 5 16 5s16-2.239 16-5v-4c0-2.761-7.163-5-16-5z\"></path>\n",
              "<path d=\"M16 17c-8.837 0-16-2.239-16-5v6c0 2.761 7.163 5 16 5s16-2.239 16-5v-6c0 2.761-7.163 5-16 5z\"></path>\n",
              "<path d=\"M16 26c-8.837 0-16-2.239-16-5v6c0 2.761 7.163 5 16 5s16-2.239 16-5v-6c0 2.761-7.163 5-16 5z\"></path>\n",
              "</symbol>\n",
              "<symbol id=\"icon-file-text2\" viewBox=\"0 0 32 32\">\n",
              "<path d=\"M28.681 7.159c-0.694-0.947-1.662-2.053-2.724-3.116s-2.169-2.030-3.116-2.724c-1.612-1.182-2.393-1.319-2.841-1.319h-15.5c-1.378 0-2.5 1.121-2.5 2.5v27c0 1.378 1.122 2.5 2.5 2.5h23c1.378 0 2.5-1.122 2.5-2.5v-19.5c0-0.448-0.137-1.23-1.319-2.841zM24.543 5.457c0.959 0.959 1.712 1.825 2.268 2.543h-4.811v-4.811c0.718 0.556 1.584 1.309 2.543 2.268zM28 29.5c0 0.271-0.229 0.5-0.5 0.5h-23c-0.271 0-0.5-0.229-0.5-0.5v-27c0-0.271 0.229-0.5 0.5-0.5 0 0 15.499-0 15.5 0v7c0 0.552 0.448 1 1 1h7v19.5z\"></path>\n",
              "<path d=\"M23 26h-14c-0.552 0-1-0.448-1-1s0.448-1 1-1h14c0.552 0 1 0.448 1 1s-0.448 1-1 1z\"></path>\n",
              "<path d=\"M23 22h-14c-0.552 0-1-0.448-1-1s0.448-1 1-1h14c0.552 0 1 0.448 1 1s-0.448 1-1 1z\"></path>\n",
              "<path d=\"M23 18h-14c-0.552 0-1-0.448-1-1s0.448-1 1-1h14c0.552 0 1 0.448 1 1s-0.448 1-1 1z\"></path>\n",
              "</symbol>\n",
              "</defs>\n",
              "</svg>\n",
              "<style>/* CSS stylesheet for displaying xarray objects in jupyterlab.\n",
              " *\n",
              " */\n",
              "\n",
              ":root {\n",
              "  --xr-font-color0: var(--jp-content-font-color0, rgba(0, 0, 0, 1));\n",
              "  --xr-font-color2: var(--jp-content-font-color2, rgba(0, 0, 0, 0.54));\n",
              "  --xr-font-color3: var(--jp-content-font-color3, rgba(0, 0, 0, 0.38));\n",
              "  --xr-border-color: var(--jp-border-color2, #e0e0e0);\n",
              "  --xr-disabled-color: var(--jp-layout-color3, #bdbdbd);\n",
              "  --xr-background-color: var(--jp-layout-color0, white);\n",
              "  --xr-background-color-row-even: var(--jp-layout-color1, white);\n",
              "  --xr-background-color-row-odd: var(--jp-layout-color2, #eeeeee);\n",
              "}\n",
              "\n",
              "html[theme=dark],\n",
              "body.vscode-dark {\n",
              "  --xr-font-color0: rgba(255, 255, 255, 1);\n",
              "  --xr-font-color2: rgba(255, 255, 255, 0.54);\n",
              "  --xr-font-color3: rgba(255, 255, 255, 0.38);\n",
              "  --xr-border-color: #1F1F1F;\n",
              "  --xr-disabled-color: #515151;\n",
              "  --xr-background-color: #111111;\n",
              "  --xr-background-color-row-even: #111111;\n",
              "  --xr-background-color-row-odd: #313131;\n",
              "}\n",
              "\n",
              ".xr-wrap {\n",
              "  display: block !important;\n",
              "  min-width: 300px;\n",
              "  max-width: 700px;\n",
              "}\n",
              "\n",
              ".xr-text-repr-fallback {\n",
              "  /* fallback to plain text repr when CSS is not injected (untrusted notebook) */\n",
              "  display: none;\n",
              "}\n",
              "\n",
              ".xr-header {\n",
              "  padding-top: 6px;\n",
              "  padding-bottom: 6px;\n",
              "  margin-bottom: 4px;\n",
              "  border-bottom: solid 1px var(--xr-border-color);\n",
              "}\n",
              "\n",
              ".xr-header > div,\n",
              ".xr-header > ul {\n",
              "  display: inline;\n",
              "  margin-top: 0;\n",
              "  margin-bottom: 0;\n",
              "}\n",
              "\n",
              ".xr-obj-type,\n",
              ".xr-array-name {\n",
              "  margin-left: 2px;\n",
              "  margin-right: 10px;\n",
              "}\n",
              "\n",
              ".xr-obj-type {\n",
              "  color: var(--xr-font-color2);\n",
              "}\n",
              "\n",
              ".xr-sections {\n",
              "  padding-left: 0 !important;\n",
              "  display: grid;\n",
              "  grid-template-columns: 150px auto auto 1fr 20px 20px;\n",
              "}\n",
              "\n",
              ".xr-section-item {\n",
              "  display: contents;\n",
              "}\n",
              "\n",
              ".xr-section-item input {\n",
              "  display: none;\n",
              "}\n",
              "\n",
              ".xr-section-item input + label {\n",
              "  color: var(--xr-disabled-color);\n",
              "}\n",
              "\n",
              ".xr-section-item input:enabled + label {\n",
              "  cursor: pointer;\n",
              "  color: var(--xr-font-color2);\n",
              "}\n",
              "\n",
              ".xr-section-item input:enabled + label:hover {\n",
              "  color: var(--xr-font-color0);\n",
              "}\n",
              "\n",
              ".xr-section-summary {\n",
              "  grid-column: 1;\n",
              "  color: var(--xr-font-color2);\n",
              "  font-weight: 500;\n",
              "}\n",
              "\n",
              ".xr-section-summary > span {\n",
              "  display: inline-block;\n",
              "  padding-left: 0.5em;\n",
              "}\n",
              "\n",
              ".xr-section-summary-in:disabled + label {\n",
              "  color: var(--xr-font-color2);\n",
              "}\n",
              "\n",
              ".xr-section-summary-in + label:before {\n",
              "  display: inline-block;\n",
              "  content: '►';\n",
              "  font-size: 11px;\n",
              "  width: 15px;\n",
              "  text-align: center;\n",
              "}\n",
              "\n",
              ".xr-section-summary-in:disabled + label:before {\n",
              "  color: var(--xr-disabled-color);\n",
              "}\n",
              "\n",
              ".xr-section-summary-in:checked + label:before {\n",
              "  content: '▼';\n",
              "}\n",
              "\n",
              ".xr-section-summary-in:checked + label > span {\n",
              "  display: none;\n",
              "}\n",
              "\n",
              ".xr-section-summary,\n",
              ".xr-section-inline-details {\n",
              "  padding-top: 4px;\n",
              "  padding-bottom: 4px;\n",
              "}\n",
              "\n",
              ".xr-section-inline-details {\n",
              "  grid-column: 2 / -1;\n",
              "}\n",
              "\n",
              ".xr-section-details {\n",
              "  display: none;\n",
              "  grid-column: 1 / -1;\n",
              "  margin-bottom: 5px;\n",
              "}\n",
              "\n",
              ".xr-section-summary-in:checked ~ .xr-section-details {\n",
              "  display: contents;\n",
              "}\n",
              "\n",
              ".xr-array-wrap {\n",
              "  grid-column: 1 / -1;\n",
              "  display: grid;\n",
              "  grid-template-columns: 20px auto;\n",
              "}\n",
              "\n",
              ".xr-array-wrap > label {\n",
              "  grid-column: 1;\n",
              "  vertical-align: top;\n",
              "}\n",
              "\n",
              ".xr-preview {\n",
              "  color: var(--xr-font-color3);\n",
              "}\n",
              "\n",
              ".xr-array-preview,\n",
              ".xr-array-data {\n",
              "  padding: 0 5px !important;\n",
              "  grid-column: 2;\n",
              "}\n",
              "\n",
              ".xr-array-data,\n",
              ".xr-array-in:checked ~ .xr-array-preview {\n",
              "  display: none;\n",
              "}\n",
              "\n",
              ".xr-array-in:checked ~ .xr-array-data,\n",
              ".xr-array-preview {\n",
              "  display: inline-block;\n",
              "}\n",
              "\n",
              ".xr-dim-list {\n",
              "  display: inline-block !important;\n",
              "  list-style: none;\n",
              "  padding: 0 !important;\n",
              "  margin: 0;\n",
              "}\n",
              "\n",
              ".xr-dim-list li {\n",
              "  display: inline-block;\n",
              "  padding: 0;\n",
              "  margin: 0;\n",
              "}\n",
              "\n",
              ".xr-dim-list:before {\n",
              "  content: '(';\n",
              "}\n",
              "\n",
              ".xr-dim-list:after {\n",
              "  content: ')';\n",
              "}\n",
              "\n",
              ".xr-dim-list li:not(:last-child):after {\n",
              "  content: ',';\n",
              "  padding-right: 5px;\n",
              "}\n",
              "\n",
              ".xr-has-index {\n",
              "  font-weight: bold;\n",
              "}\n",
              "\n",
              ".xr-var-list,\n",
              ".xr-var-item {\n",
              "  display: contents;\n",
              "}\n",
              "\n",
              ".xr-var-item > div,\n",
              ".xr-var-item label,\n",
              ".xr-var-item > .xr-var-name span {\n",
              "  background-color: var(--xr-background-color-row-even);\n",
              "  margin-bottom: 0;\n",
              "}\n",
              "\n",
              ".xr-var-item > .xr-var-name:hover span {\n",
              "  padding-right: 5px;\n",
              "}\n",
              "\n",
              ".xr-var-list > li:nth-child(odd) > div,\n",
              ".xr-var-list > li:nth-child(odd) > label,\n",
              ".xr-var-list > li:nth-child(odd) > .xr-var-name span {\n",
              "  background-color: var(--xr-background-color-row-odd);\n",
              "}\n",
              "\n",
              ".xr-var-name {\n",
              "  grid-column: 1;\n",
              "}\n",
              "\n",
              ".xr-var-dims {\n",
              "  grid-column: 2;\n",
              "}\n",
              "\n",
              ".xr-var-dtype {\n",
              "  grid-column: 3;\n",
              "  text-align: right;\n",
              "  color: var(--xr-font-color2);\n",
              "}\n",
              "\n",
              ".xr-var-preview {\n",
              "  grid-column: 4;\n",
              "}\n",
              "\n",
              ".xr-var-name,\n",
              ".xr-var-dims,\n",
              ".xr-var-dtype,\n",
              ".xr-preview,\n",
              ".xr-attrs dt {\n",
              "  white-space: nowrap;\n",
              "  overflow: hidden;\n",
              "  text-overflow: ellipsis;\n",
              "  padding-right: 10px;\n",
              "}\n",
              "\n",
              ".xr-var-name:hover,\n",
              ".xr-var-dims:hover,\n",
              ".xr-var-dtype:hover,\n",
              ".xr-attrs dt:hover {\n",
              "  overflow: visible;\n",
              "  width: auto;\n",
              "  z-index: 1;\n",
              "}\n",
              "\n",
              ".xr-var-attrs,\n",
              ".xr-var-data {\n",
              "  display: none;\n",
              "  background-color: var(--xr-background-color) !important;\n",
              "  padding-bottom: 5px !important;\n",
              "}\n",
              "\n",
              ".xr-var-attrs-in:checked ~ .xr-var-attrs,\n",
              ".xr-var-data-in:checked ~ .xr-var-data {\n",
              "  display: block;\n",
              "}\n",
              "\n",
              ".xr-var-data > table {\n",
              "  float: right;\n",
              "}\n",
              "\n",
              ".xr-var-name span,\n",
              ".xr-var-data,\n",
              ".xr-attrs {\n",
              "  padding-left: 25px !important;\n",
              "}\n",
              "\n",
              ".xr-attrs,\n",
              ".xr-var-attrs,\n",
              ".xr-var-data {\n",
              "  grid-column: 1 / -1;\n",
              "}\n",
              "\n",
              "dl.xr-attrs {\n",
              "  padding: 0;\n",
              "  margin: 0;\n",
              "  display: grid;\n",
              "  grid-template-columns: 125px auto;\n",
              "}\n",
              "\n",
              ".xr-attrs dt,\n",
              ".xr-attrs dd {\n",
              "  padding: 0;\n",
              "  margin: 0;\n",
              "  float: left;\n",
              "  padding-right: 10px;\n",
              "  width: auto;\n",
              "}\n",
              "\n",
              ".xr-attrs dt {\n",
              "  font-weight: normal;\n",
              "  grid-column: 1;\n",
              "}\n",
              "\n",
              ".xr-attrs dt:hover span {\n",
              "  display: inline-block;\n",
              "  background: var(--xr-background-color);\n",
              "  padding-right: 10px;\n",
              "}\n",
              "\n",
              ".xr-attrs dd {\n",
              "  grid-column: 2;\n",
              "  white-space: pre-wrap;\n",
              "  word-break: break-all;\n",
              "}\n",
              "\n",
              ".xr-icon-database,\n",
              ".xr-icon-file-text2 {\n",
              "  display: inline-block;\n",
              "  vertical-align: middle;\n",
              "  width: 1em;\n",
              "  height: 1.5em !important;\n",
              "  stroke-width: 0;\n",
              "  stroke: currentColor;\n",
              "  fill: currentColor;\n",
              "}\n",
              "</style><pre class='xr-text-repr-fallback'>&lt;xarray.Dataset&gt;\n",
              "Dimensions:   (lat: 339, lon: 720)\n",
              "Coordinates:\n",
              "  * lat       (lat) float64 21.0 22.0 23.0 24.0 25.0 ... 356.0 357.0 358.0 359.0\n",
              "  * lon       (lon) float64 0.0 1.0 2.0 3.0 4.0 ... 716.0 717.0 718.0 719.0\n",
              "Data variables:\n",
              "    clusters  (lat, lon) float64 32.0 16.0 36.0 31.0 ... 16.0 16.0 16.0 16.0\n",
              "    curlB     (lat, lon) float64 1.04e-10 1.175e-10 ... 1.279e-11 1.27e-11\n",
              "    curlCori  (lat, lon) float64 3.281e-10 -4.664e-10 ... -4.638e-10 -4.647e-10\n",
              "    curlA     (lat, lon) float64 2.86e-10 -4.171e-10 ... 1.166e-10 1.146e-10\n",
              "    BPT       (lat, lon) float64 -6.666e-10 9.296e-10 ... 3.496e-10 3.525e-10\n",
              "    curlTau   (lat, lon) float64 -5.138e-11 -1.638e-10 ... -1.358e-11 -1.348e-11</pre><div class='xr-wrap' style='display:none'><div class='xr-header'><div class='xr-obj-type'>xarray.Dataset</div></div><ul class='xr-sections'><li class='xr-section-item'><input id='section-7b36d1e7-040a-47c0-8be4-fa102cba32e1' class='xr-section-summary-in' type='checkbox' disabled ><label for='section-7b36d1e7-040a-47c0-8be4-fa102cba32e1' class='xr-section-summary'  title='Expand/collapse section'>Dimensions:</label><div class='xr-section-inline-details'><ul class='xr-dim-list'><li><span class='xr-has-index'>lat</span>: 339</li><li><span class='xr-has-index'>lon</span>: 720</li></ul></div><div class='xr-section-details'></div></li><li class='xr-section-item'><input id='section-fbf33f61-8014-4100-8da3-3021ba7fb6f0' class='xr-section-summary-in' type='checkbox'  checked><label for='section-fbf33f61-8014-4100-8da3-3021ba7fb6f0' class='xr-section-summary' >Coordinates: <span>(2)</span></label><div class='xr-section-inline-details'></div><div class='xr-section-details'><ul class='xr-var-list'><li class='xr-var-item'><div class='xr-var-name'><span class='xr-has-index'>lat</span></div><div class='xr-var-dims'>(lat)</div><div class='xr-var-dtype'>float64</div><div class='xr-var-preview xr-preview'>21.0 22.0 23.0 ... 358.0 359.0</div><input id='attrs-03ad00b9-5c5d-4acd-80c4-31d208a31233' class='xr-var-attrs-in' type='checkbox' disabled><label for='attrs-03ad00b9-5c5d-4acd-80c4-31d208a31233' title='Show/Hide attributes'><svg class='icon xr-icon-file-text2'><use xlink:href='#icon-file-text2'></use></svg></label><input id='data-3b5acfa1-54d4-49b4-b4ff-64f3a01e7d06' class='xr-var-data-in' type='checkbox'><label for='data-3b5acfa1-54d4-49b4-b4ff-64f3a01e7d06' title='Show/Hide data repr'><svg class='icon xr-icon-database'><use xlink:href='#icon-database'></use></svg></label><div class='xr-var-attrs'><dl class='xr-attrs'></dl></div><div class='xr-var-data'><pre>array([ 21.,  22.,  23., ..., 357., 358., 359.])</pre></div></li><li class='xr-var-item'><div class='xr-var-name'><span class='xr-has-index'>lon</span></div><div class='xr-var-dims'>(lon)</div><div class='xr-var-dtype'>float64</div><div class='xr-var-preview xr-preview'>0.0 1.0 2.0 ... 717.0 718.0 719.0</div><input id='attrs-07ab994a-17ba-4827-8246-c81bc3dff3c7' class='xr-var-attrs-in' type='checkbox' disabled><label for='attrs-07ab994a-17ba-4827-8246-c81bc3dff3c7' title='Show/Hide attributes'><svg class='icon xr-icon-file-text2'><use xlink:href='#icon-file-text2'></use></svg></label><input id='data-7e420c93-cc85-4cf3-9e79-45edb8060f3a' class='xr-var-data-in' type='checkbox'><label for='data-7e420c93-cc85-4cf3-9e79-45edb8060f3a' title='Show/Hide data repr'><svg class='icon xr-icon-database'><use xlink:href='#icon-database'></use></svg></label><div class='xr-var-attrs'><dl class='xr-attrs'></dl></div><div class='xr-var-data'><pre>array([  0.,   1.,   2., ..., 717., 718., 719.])</pre></div></li></ul></div></li><li class='xr-section-item'><input id='section-f63edd9f-ddae-4792-8c37-ac5111e789c0' class='xr-section-summary-in' type='checkbox'  checked><label for='section-f63edd9f-ddae-4792-8c37-ac5111e789c0' class='xr-section-summary' >Data variables: <span>(6)</span></label><div class='xr-section-inline-details'></div><div class='xr-section-details'><ul class='xr-var-list'><li class='xr-var-item'><div class='xr-var-name'><span>clusters</span></div><div class='xr-var-dims'>(lat, lon)</div><div class='xr-var-dtype'>float64</div><div class='xr-var-preview xr-preview'>32.0 16.0 36.0 ... 16.0 16.0 16.0</div><input id='attrs-cd4f63b3-e449-4834-849c-871e19f9608d' class='xr-var-attrs-in' type='checkbox' disabled><label for='attrs-cd4f63b3-e449-4834-849c-871e19f9608d' title='Show/Hide attributes'><svg class='icon xr-icon-file-text2'><use xlink:href='#icon-file-text2'></use></svg></label><input id='data-3f4e433d-1125-4781-ba1d-dd8bfd802848' class='xr-var-data-in' type='checkbox'><label for='data-3f4e433d-1125-4781-ba1d-dd8bfd802848' title='Show/Hide data repr'><svg class='icon xr-icon-database'><use xlink:href='#icon-database'></use></svg></label><div class='xr-var-attrs'><dl class='xr-attrs'></dl></div><div class='xr-var-data'><pre>array([[32., 16., 36., ..., 25., 25., 25.],\n",
              "       [14., 41., 41., ..., 13., 29., 13.],\n",
              "       [13., 13., 37., ..., 25., 13., 13.],\n",
              "       ...,\n",
              "       [16.,  1.,  1., ..., 16., 16., 16.],\n",
              "       [36., 36., 36., ..., 36., 36., 36.],\n",
              "       [16., 16., 16., ..., 16., 16., 16.]])</pre></div></li><li class='xr-var-item'><div class='xr-var-name'><span>curlB</span></div><div class='xr-var-dims'>(lat, lon)</div><div class='xr-var-dtype'>float64</div><div class='xr-var-preview xr-preview'>1.04e-10 1.175e-10 ... 1.27e-11</div><input id='attrs-a8001ccd-3102-4124-9fc6-f6e011940b8d' class='xr-var-attrs-in' type='checkbox' disabled><label for='attrs-a8001ccd-3102-4124-9fc6-f6e011940b8d' title='Show/Hide attributes'><svg class='icon xr-icon-file-text2'><use xlink:href='#icon-file-text2'></use></svg></label><input id='data-71cbd0c4-913a-4211-b78e-bf45049e2be2' class='xr-var-data-in' type='checkbox'><label for='data-71cbd0c4-913a-4211-b78e-bf45049e2be2' title='Show/Hide data repr'><svg class='icon xr-icon-database'><use xlink:href='#icon-database'></use></svg></label><div class='xr-var-attrs'><dl class='xr-attrs'></dl></div><div class='xr-var-data'><pre>array([[ 1.03954625e-10,  1.17539658e-10,  8.25880166e-11, ...,\n",
              "        -1.78027927e-11,  4.00749668e-11,  8.74360122e-11],\n",
              "       [ 2.85516137e-10,  2.43511688e-10,  1.76206992e-10, ...,\n",
              "         8.52466374e-11,  1.81202273e-10,  2.34110466e-10],\n",
              "       [ 1.20773770e-10,  1.19082515e-10,  1.07518743e-10, ...,\n",
              "         1.70979931e-11,  4.91049740e-11,  1.01079263e-10],\n",
              "       ...,\n",
              "       [-8.48804612e-12, -8.09476530e-12, -7.70072920e-12, ...,\n",
              "        -1.00130223e-11, -9.41033908e-12, -8.87845525e-12],\n",
              "       [-1.18409305e-11, -1.18952131e-11, -1.19473920e-11, ...,\n",
              "        -1.16654656e-11, -1.17268948e-11, -1.17848753e-11],\n",
              "       [ 1.26111815e-11,  1.25250403e-11,  1.24437042e-11, ...,\n",
              "         1.28843440e-11,  1.27896910e-11,  1.26984984e-11]])</pre></div></li><li class='xr-var-item'><div class='xr-var-name'><span>curlCori</span></div><div class='xr-var-dims'>(lat, lon)</div><div class='xr-var-dtype'>float64</div><div class='xr-var-preview xr-preview'>3.281e-10 -4.664e-10 ... -4.647e-10</div><input id='attrs-07d51902-57b0-483f-aa91-e3d3750e47d4' class='xr-var-attrs-in' type='checkbox' disabled><label for='attrs-07d51902-57b0-483f-aa91-e3d3750e47d4' title='Show/Hide attributes'><svg class='icon xr-icon-file-text2'><use xlink:href='#icon-file-text2'></use></svg></label><input id='data-0f52d86c-53a6-48ba-a998-05c3bdbe0c32' class='xr-var-data-in' type='checkbox'><label for='data-0f52d86c-53a6-48ba-a998-05c3bdbe0c32' title='Show/Hide data repr'><svg class='icon xr-icon-database'><use xlink:href='#icon-database'></use></svg></label><div class='xr-var-attrs'><dl class='xr-attrs'></dl></div><div class='xr-var-data'><pre>array([[ 3.28084526e-10, -4.66391440e-10, -1.15642564e-09, ...,\n",
              "         2.36552930e-09,  1.79370149e-09,  1.14534010e-09],\n",
              "       [ 2.95032370e-09,  2.01988711e-09,  1.00931159e-09, ...,\n",
              "         3.07473204e-09,  4.21675295e-09,  3.62137011e-09],\n",
              "       [ 4.35347178e-09,  5.07127918e-09,  5.77637194e-09, ...,\n",
              "         2.19408127e-09,  2.97663436e-09,  3.66080692e-09],\n",
              "       ...,\n",
              "       [-6.92754602e-11, -6.81521990e-11, -6.75638325e-11, ...,\n",
              "        -1.27496946e-10, -9.38783601e-11, -7.07133252e-11],\n",
              "       [-1.16016079e-09, -1.14627098e-09, -1.13219307e-09, ...,\n",
              "        -1.20101830e-09, -1.18762320e-09, -1.17401354e-09],\n",
              "       [-4.65477304e-10, -4.66288146e-10, -4.67006256e-10, ...,\n",
              "        -4.62830594e-10, -4.63767098e-10, -4.64661454e-10]])</pre></div></li><li class='xr-var-item'><div class='xr-var-name'><span>curlA</span></div><div class='xr-var-dims'>(lat, lon)</div><div class='xr-var-dtype'>float64</div><div class='xr-var-preview xr-preview'>2.86e-10 -4.171e-10 ... 1.146e-10</div><input id='attrs-a08514a2-b3e2-4aa5-8390-c4d2e2f7624d' class='xr-var-attrs-in' type='checkbox' disabled><label for='attrs-a08514a2-b3e2-4aa5-8390-c4d2e2f7624d' title='Show/Hide attributes'><svg class='icon xr-icon-file-text2'><use xlink:href='#icon-file-text2'></use></svg></label><input id='data-6c0ce63e-964c-41f4-a686-1964a500f639' class='xr-var-data-in' type='checkbox'><label for='data-6c0ce63e-964c-41f4-a686-1964a500f639' title='Show/Hide data repr'><svg class='icon xr-icon-database'><use xlink:href='#icon-database'></use></svg></label><div class='xr-var-attrs'><dl class='xr-attrs'></dl></div><div class='xr-var-data'><pre>array([[ 2.85997783e-10, -4.17060208e-10, -7.21202026e-10, ...,\n",
              "         5.43781897e-10,  8.81535919e-10,  1.05440893e-09],\n",
              "       [-8.22235824e-10, -1.46280900e-09, -1.89329724e-09, ...,\n",
              "         1.35918822e-09,  1.95411657e-09,  5.56559448e-10],\n",
              "       [ 2.83877167e-10, -3.40749414e-10, -8.29653731e-10, ...,\n",
              "         1.39310921e-09,  1.29102165e-09,  8.29856511e-10],\n",
              "       ...,\n",
              "       [-2.00494809e-10, -1.91009513e-10, -1.81546207e-10, ...,\n",
              "        -2.06477742e-10, -2.10534064e-10, -2.09990271e-10],\n",
              "       [-4.53958114e-10, -4.49054409e-10, -4.43977377e-10, ...,\n",
              "        -4.67389064e-10, -4.63173341e-10, -4.58664385e-10],\n",
              "       [ 1.12559504e-10,  1.10532294e-10,  1.08534470e-10, ...,\n",
              "         1.18598958e-10,  1.16589258e-10,  1.14566462e-10]])</pre></div></li><li class='xr-var-item'><div class='xr-var-name'><span>BPT</span></div><div class='xr-var-dims'>(lat, lon)</div><div class='xr-var-dtype'>float64</div><div class='xr-var-preview xr-preview'>-6.666e-10 9.296e-10 ... 3.525e-10</div><input id='attrs-ae940b18-4d04-4302-93ff-5c8a40042a7b' class='xr-var-attrs-in' type='checkbox' disabled><label for='attrs-ae940b18-4d04-4302-93ff-5c8a40042a7b' title='Show/Hide attributes'><svg class='icon xr-icon-file-text2'><use xlink:href='#icon-file-text2'></use></svg></label><input id='data-38803eaf-f3b2-4328-8928-08a0f00dbc38' class='xr-var-data-in' type='checkbox'><label for='data-38803eaf-f3b2-4328-8928-08a0f00dbc38' title='Show/Hide data repr'><svg class='icon xr-icon-database'><use xlink:href='#icon-database'></use></svg></label><div class='xr-var-attrs'><dl class='xr-attrs'></dl></div><div class='xr-var-data'><pre>array([[-6.66628240e-10,  9.29574859e-10,  2.02231055e-09, ...,\n",
              "        -2.93596666e-09, -2.77734964e-09, -2.34897561e-09],\n",
              "       [-2.26548695e-09, -5.84216027e-10,  9.91829917e-10, ...,\n",
              "        -4.50611357e-09, -6.35341540e-09, -4.34075138e-09],\n",
              "       [-4.80740321e-09, -4.85418275e-09, -5.00803014e-09, ...,\n",
              "        -3.63073974e-09, -4.37057736e-09, -4.66203505e-09],\n",
              "       ...,\n",
              "       [ 2.91824577e-10,  2.79597141e-10,  2.67941801e-10, ...,\n",
              "         3.60130179e-10,  3.29399238e-10,  3.04381556e-10],\n",
              "       [ 1.65025216e-09,  1.63083037e-09,  1.61104016e-09, ...,\n",
              "         1.70639128e-09,  1.68817223e-09,  1.66943716e-09],\n",
              "       [ 3.55323559e-10,  3.58131735e-10,  3.60815091e-10, ...,\n",
              "         3.46706442e-10,  3.49634081e-10,  3.52527302e-10]])</pre></div></li><li class='xr-var-item'><div class='xr-var-name'><span>curlTau</span></div><div class='xr-var-dims'>(lat, lon)</div><div class='xr-var-dtype'>float64</div><div class='xr-var-preview xr-preview'>-5.138e-11 ... -1.348e-11</div><input id='attrs-6815af3d-9f8d-40c5-872f-d64597ce2677' class='xr-var-attrs-in' type='checkbox' disabled><label for='attrs-6815af3d-9f8d-40c5-872f-d64597ce2677' title='Show/Hide attributes'><svg class='icon xr-icon-file-text2'><use xlink:href='#icon-file-text2'></use></svg></label><input id='data-61953f59-1b64-43ba-9fbc-2a1576b5fa5b' class='xr-var-data-in' type='checkbox'><label for='data-61953f59-1b64-43ba-9fbc-2a1576b5fa5b' title='Show/Hide data repr'><svg class='icon xr-icon-database'><use xlink:href='#icon-database'></use></svg></label><div class='xr-var-attrs'><dl class='xr-attrs'></dl></div><div class='xr-var-data'><pre>array([[-5.13789597e-11, -1.63759062e-10, -2.27345976e-10, ...,\n",
              "         4.47169023e-11,  6.22523959e-11,  6.19524766e-11],\n",
              "       [-1.48417594e-10, -2.16730319e-10, -2.84410848e-10, ...,\n",
              "        -1.28682747e-11,  1.48853436e-12, -7.13696303e-11],\n",
              "       [ 4.92082638e-11,  4.44895841e-12, -4.63360359e-11, ...,\n",
              "         2.67536016e-11,  5.39908189e-11,  7.03110263e-11],\n",
              "       ...,\n",
              "       [-1.50804074e-11, -1.38740423e-11, -1.26829094e-11, ...,\n",
              "        -1.75898502e-11, -1.70483291e-11, -1.62937674e-11],\n",
              "       [-2.40229606e-11, -2.33721971e-11, -2.27163128e-11, ...,\n",
              "        -2.59515534e-11, -2.53148197e-11, -2.46727400e-11],\n",
              "       [-1.33861875e-11, -1.32861630e-11, -1.31878838e-11, ...,\n",
              "        -1.36808540e-11, -1.35834491e-11, -1.34843067e-11]])</pre></div></li></ul></div></li><li class='xr-section-item'><input id='section-c0a0c371-729d-4190-8f99-1c24b6d7af0e' class='xr-section-summary-in' type='checkbox' disabled ><label for='section-c0a0c371-729d-4190-8f99-1c24b6d7af0e' class='xr-section-summary'  title='Expand/collapse section'>Attributes: <span>(0)</span></label><div class='xr-section-inline-details'></div><div class='xr-section-details'><dl class='xr-attrs'></dl></div></li></ul></div></div>"
            ]
          },
          "metadata": {},
          "execution_count": 94
        }
      ]
    },
    {
      "cell_type": "code",
      "source": [
        "processed_ds['clusters']"
      ],
      "metadata": {
        "id": "8JdeYR-pobG8",
        "outputId": "574e8c33-5329-4459-ebb5-3e0a81f77905",
        "colab": {
          "base_uri": "https://localhost:8080/",
          "height": 274
        }
      },
      "execution_count": 95,
      "outputs": [
        {
          "output_type": "execute_result",
          "data": {
            "text/plain": [
              "<xarray.DataArray 'clusters' (lat: 339, lon: 720)>\n",
              "array([[32., 16., 36., ..., 25., 25., 25.],\n",
              "       [14., 41., 41., ..., 13., 29., 13.],\n",
              "       [13., 13., 37., ..., 25., 13., 13.],\n",
              "       ...,\n",
              "       [16.,  1.,  1., ..., 16., 16., 16.],\n",
              "       [36., 36., 36., ..., 36., 36., 36.],\n",
              "       [16., 16., 16., ..., 16., 16., 16.]])\n",
              "Coordinates:\n",
              "  * lat      (lat) float64 21.0 22.0 23.0 24.0 25.0 ... 356.0 357.0 358.0 359.0\n",
              "  * lon      (lon) float64 0.0 1.0 2.0 3.0 4.0 ... 715.0 716.0 717.0 718.0 719.0"
            ],
            "text/html": [
              "<div><svg style=\"position: absolute; width: 0; height: 0; overflow: hidden\">\n",
              "<defs>\n",
              "<symbol id=\"icon-database\" viewBox=\"0 0 32 32\">\n",
              "<path d=\"M16 0c-8.837 0-16 2.239-16 5v4c0 2.761 7.163 5 16 5s16-2.239 16-5v-4c0-2.761-7.163-5-16-5z\"></path>\n",
              "<path d=\"M16 17c-8.837 0-16-2.239-16-5v6c0 2.761 7.163 5 16 5s16-2.239 16-5v-6c0 2.761-7.163 5-16 5z\"></path>\n",
              "<path d=\"M16 26c-8.837 0-16-2.239-16-5v6c0 2.761 7.163 5 16 5s16-2.239 16-5v-6c0 2.761-7.163 5-16 5z\"></path>\n",
              "</symbol>\n",
              "<symbol id=\"icon-file-text2\" viewBox=\"0 0 32 32\">\n",
              "<path d=\"M28.681 7.159c-0.694-0.947-1.662-2.053-2.724-3.116s-2.169-2.030-3.116-2.724c-1.612-1.182-2.393-1.319-2.841-1.319h-15.5c-1.378 0-2.5 1.121-2.5 2.5v27c0 1.378 1.122 2.5 2.5 2.5h23c1.378 0 2.5-1.122 2.5-2.5v-19.5c0-0.448-0.137-1.23-1.319-2.841zM24.543 5.457c0.959 0.959 1.712 1.825 2.268 2.543h-4.811v-4.811c0.718 0.556 1.584 1.309 2.543 2.268zM28 29.5c0 0.271-0.229 0.5-0.5 0.5h-23c-0.271 0-0.5-0.229-0.5-0.5v-27c0-0.271 0.229-0.5 0.5-0.5 0 0 15.499-0 15.5 0v7c0 0.552 0.448 1 1 1h7v19.5z\"></path>\n",
              "<path d=\"M23 26h-14c-0.552 0-1-0.448-1-1s0.448-1 1-1h14c0.552 0 1 0.448 1 1s-0.448 1-1 1z\"></path>\n",
              "<path d=\"M23 22h-14c-0.552 0-1-0.448-1-1s0.448-1 1-1h14c0.552 0 1 0.448 1 1s-0.448 1-1 1z\"></path>\n",
              "<path d=\"M23 18h-14c-0.552 0-1-0.448-1-1s0.448-1 1-1h14c0.552 0 1 0.448 1 1s-0.448 1-1 1z\"></path>\n",
              "</symbol>\n",
              "</defs>\n",
              "</svg>\n",
              "<style>/* CSS stylesheet for displaying xarray objects in jupyterlab.\n",
              " *\n",
              " */\n",
              "\n",
              ":root {\n",
              "  --xr-font-color0: var(--jp-content-font-color0, rgba(0, 0, 0, 1));\n",
              "  --xr-font-color2: var(--jp-content-font-color2, rgba(0, 0, 0, 0.54));\n",
              "  --xr-font-color3: var(--jp-content-font-color3, rgba(0, 0, 0, 0.38));\n",
              "  --xr-border-color: var(--jp-border-color2, #e0e0e0);\n",
              "  --xr-disabled-color: var(--jp-layout-color3, #bdbdbd);\n",
              "  --xr-background-color: var(--jp-layout-color0, white);\n",
              "  --xr-background-color-row-even: var(--jp-layout-color1, white);\n",
              "  --xr-background-color-row-odd: var(--jp-layout-color2, #eeeeee);\n",
              "}\n",
              "\n",
              "html[theme=dark],\n",
              "body.vscode-dark {\n",
              "  --xr-font-color0: rgba(255, 255, 255, 1);\n",
              "  --xr-font-color2: rgba(255, 255, 255, 0.54);\n",
              "  --xr-font-color3: rgba(255, 255, 255, 0.38);\n",
              "  --xr-border-color: #1F1F1F;\n",
              "  --xr-disabled-color: #515151;\n",
              "  --xr-background-color: #111111;\n",
              "  --xr-background-color-row-even: #111111;\n",
              "  --xr-background-color-row-odd: #313131;\n",
              "}\n",
              "\n",
              ".xr-wrap {\n",
              "  display: block !important;\n",
              "  min-width: 300px;\n",
              "  max-width: 700px;\n",
              "}\n",
              "\n",
              ".xr-text-repr-fallback {\n",
              "  /* fallback to plain text repr when CSS is not injected (untrusted notebook) */\n",
              "  display: none;\n",
              "}\n",
              "\n",
              ".xr-header {\n",
              "  padding-top: 6px;\n",
              "  padding-bottom: 6px;\n",
              "  margin-bottom: 4px;\n",
              "  border-bottom: solid 1px var(--xr-border-color);\n",
              "}\n",
              "\n",
              ".xr-header > div,\n",
              ".xr-header > ul {\n",
              "  display: inline;\n",
              "  margin-top: 0;\n",
              "  margin-bottom: 0;\n",
              "}\n",
              "\n",
              ".xr-obj-type,\n",
              ".xr-array-name {\n",
              "  margin-left: 2px;\n",
              "  margin-right: 10px;\n",
              "}\n",
              "\n",
              ".xr-obj-type {\n",
              "  color: var(--xr-font-color2);\n",
              "}\n",
              "\n",
              ".xr-sections {\n",
              "  padding-left: 0 !important;\n",
              "  display: grid;\n",
              "  grid-template-columns: 150px auto auto 1fr 20px 20px;\n",
              "}\n",
              "\n",
              ".xr-section-item {\n",
              "  display: contents;\n",
              "}\n",
              "\n",
              ".xr-section-item input {\n",
              "  display: none;\n",
              "}\n",
              "\n",
              ".xr-section-item input + label {\n",
              "  color: var(--xr-disabled-color);\n",
              "}\n",
              "\n",
              ".xr-section-item input:enabled + label {\n",
              "  cursor: pointer;\n",
              "  color: var(--xr-font-color2);\n",
              "}\n",
              "\n",
              ".xr-section-item input:enabled + label:hover {\n",
              "  color: var(--xr-font-color0);\n",
              "}\n",
              "\n",
              ".xr-section-summary {\n",
              "  grid-column: 1;\n",
              "  color: var(--xr-font-color2);\n",
              "  font-weight: 500;\n",
              "}\n",
              "\n",
              ".xr-section-summary > span {\n",
              "  display: inline-block;\n",
              "  padding-left: 0.5em;\n",
              "}\n",
              "\n",
              ".xr-section-summary-in:disabled + label {\n",
              "  color: var(--xr-font-color2);\n",
              "}\n",
              "\n",
              ".xr-section-summary-in + label:before {\n",
              "  display: inline-block;\n",
              "  content: '►';\n",
              "  font-size: 11px;\n",
              "  width: 15px;\n",
              "  text-align: center;\n",
              "}\n",
              "\n",
              ".xr-section-summary-in:disabled + label:before {\n",
              "  color: var(--xr-disabled-color);\n",
              "}\n",
              "\n",
              ".xr-section-summary-in:checked + label:before {\n",
              "  content: '▼';\n",
              "}\n",
              "\n",
              ".xr-section-summary-in:checked + label > span {\n",
              "  display: none;\n",
              "}\n",
              "\n",
              ".xr-section-summary,\n",
              ".xr-section-inline-details {\n",
              "  padding-top: 4px;\n",
              "  padding-bottom: 4px;\n",
              "}\n",
              "\n",
              ".xr-section-inline-details {\n",
              "  grid-column: 2 / -1;\n",
              "}\n",
              "\n",
              ".xr-section-details {\n",
              "  display: none;\n",
              "  grid-column: 1 / -1;\n",
              "  margin-bottom: 5px;\n",
              "}\n",
              "\n",
              ".xr-section-summary-in:checked ~ .xr-section-details {\n",
              "  display: contents;\n",
              "}\n",
              "\n",
              ".xr-array-wrap {\n",
              "  grid-column: 1 / -1;\n",
              "  display: grid;\n",
              "  grid-template-columns: 20px auto;\n",
              "}\n",
              "\n",
              ".xr-array-wrap > label {\n",
              "  grid-column: 1;\n",
              "  vertical-align: top;\n",
              "}\n",
              "\n",
              ".xr-preview {\n",
              "  color: var(--xr-font-color3);\n",
              "}\n",
              "\n",
              ".xr-array-preview,\n",
              ".xr-array-data {\n",
              "  padding: 0 5px !important;\n",
              "  grid-column: 2;\n",
              "}\n",
              "\n",
              ".xr-array-data,\n",
              ".xr-array-in:checked ~ .xr-array-preview {\n",
              "  display: none;\n",
              "}\n",
              "\n",
              ".xr-array-in:checked ~ .xr-array-data,\n",
              ".xr-array-preview {\n",
              "  display: inline-block;\n",
              "}\n",
              "\n",
              ".xr-dim-list {\n",
              "  display: inline-block !important;\n",
              "  list-style: none;\n",
              "  padding: 0 !important;\n",
              "  margin: 0;\n",
              "}\n",
              "\n",
              ".xr-dim-list li {\n",
              "  display: inline-block;\n",
              "  padding: 0;\n",
              "  margin: 0;\n",
              "}\n",
              "\n",
              ".xr-dim-list:before {\n",
              "  content: '(';\n",
              "}\n",
              "\n",
              ".xr-dim-list:after {\n",
              "  content: ')';\n",
              "}\n",
              "\n",
              ".xr-dim-list li:not(:last-child):after {\n",
              "  content: ',';\n",
              "  padding-right: 5px;\n",
              "}\n",
              "\n",
              ".xr-has-index {\n",
              "  font-weight: bold;\n",
              "}\n",
              "\n",
              ".xr-var-list,\n",
              ".xr-var-item {\n",
              "  display: contents;\n",
              "}\n",
              "\n",
              ".xr-var-item > div,\n",
              ".xr-var-item label,\n",
              ".xr-var-item > .xr-var-name span {\n",
              "  background-color: var(--xr-background-color-row-even);\n",
              "  margin-bottom: 0;\n",
              "}\n",
              "\n",
              ".xr-var-item > .xr-var-name:hover span {\n",
              "  padding-right: 5px;\n",
              "}\n",
              "\n",
              ".xr-var-list > li:nth-child(odd) > div,\n",
              ".xr-var-list > li:nth-child(odd) > label,\n",
              ".xr-var-list > li:nth-child(odd) > .xr-var-name span {\n",
              "  background-color: var(--xr-background-color-row-odd);\n",
              "}\n",
              "\n",
              ".xr-var-name {\n",
              "  grid-column: 1;\n",
              "}\n",
              "\n",
              ".xr-var-dims {\n",
              "  grid-column: 2;\n",
              "}\n",
              "\n",
              ".xr-var-dtype {\n",
              "  grid-column: 3;\n",
              "  text-align: right;\n",
              "  color: var(--xr-font-color2);\n",
              "}\n",
              "\n",
              ".xr-var-preview {\n",
              "  grid-column: 4;\n",
              "}\n",
              "\n",
              ".xr-var-name,\n",
              ".xr-var-dims,\n",
              ".xr-var-dtype,\n",
              ".xr-preview,\n",
              ".xr-attrs dt {\n",
              "  white-space: nowrap;\n",
              "  overflow: hidden;\n",
              "  text-overflow: ellipsis;\n",
              "  padding-right: 10px;\n",
              "}\n",
              "\n",
              ".xr-var-name:hover,\n",
              ".xr-var-dims:hover,\n",
              ".xr-var-dtype:hover,\n",
              ".xr-attrs dt:hover {\n",
              "  overflow: visible;\n",
              "  width: auto;\n",
              "  z-index: 1;\n",
              "}\n",
              "\n",
              ".xr-var-attrs,\n",
              ".xr-var-data {\n",
              "  display: none;\n",
              "  background-color: var(--xr-background-color) !important;\n",
              "  padding-bottom: 5px !important;\n",
              "}\n",
              "\n",
              ".xr-var-attrs-in:checked ~ .xr-var-attrs,\n",
              ".xr-var-data-in:checked ~ .xr-var-data {\n",
              "  display: block;\n",
              "}\n",
              "\n",
              ".xr-var-data > table {\n",
              "  float: right;\n",
              "}\n",
              "\n",
              ".xr-var-name span,\n",
              ".xr-var-data,\n",
              ".xr-attrs {\n",
              "  padding-left: 25px !important;\n",
              "}\n",
              "\n",
              ".xr-attrs,\n",
              ".xr-var-attrs,\n",
              ".xr-var-data {\n",
              "  grid-column: 1 / -1;\n",
              "}\n",
              "\n",
              "dl.xr-attrs {\n",
              "  padding: 0;\n",
              "  margin: 0;\n",
              "  display: grid;\n",
              "  grid-template-columns: 125px auto;\n",
              "}\n",
              "\n",
              ".xr-attrs dt,\n",
              ".xr-attrs dd {\n",
              "  padding: 0;\n",
              "  margin: 0;\n",
              "  float: left;\n",
              "  padding-right: 10px;\n",
              "  width: auto;\n",
              "}\n",
              "\n",
              ".xr-attrs dt {\n",
              "  font-weight: normal;\n",
              "  grid-column: 1;\n",
              "}\n",
              "\n",
              ".xr-attrs dt:hover span {\n",
              "  display: inline-block;\n",
              "  background: var(--xr-background-color);\n",
              "  padding-right: 10px;\n",
              "}\n",
              "\n",
              ".xr-attrs dd {\n",
              "  grid-column: 2;\n",
              "  white-space: pre-wrap;\n",
              "  word-break: break-all;\n",
              "}\n",
              "\n",
              ".xr-icon-database,\n",
              ".xr-icon-file-text2 {\n",
              "  display: inline-block;\n",
              "  vertical-align: middle;\n",
              "  width: 1em;\n",
              "  height: 1.5em !important;\n",
              "  stroke-width: 0;\n",
              "  stroke: currentColor;\n",
              "  fill: currentColor;\n",
              "}\n",
              "</style><pre class='xr-text-repr-fallback'>&lt;xarray.DataArray &#x27;clusters&#x27; (lat: 339, lon: 720)&gt;\n",
              "array([[32., 16., 36., ..., 25., 25., 25.],\n",
              "       [14., 41., 41., ..., 13., 29., 13.],\n",
              "       [13., 13., 37., ..., 25., 13., 13.],\n",
              "       ...,\n",
              "       [16.,  1.,  1., ..., 16., 16., 16.],\n",
              "       [36., 36., 36., ..., 36., 36., 36.],\n",
              "       [16., 16., 16., ..., 16., 16., 16.]])\n",
              "Coordinates:\n",
              "  * lat      (lat) float64 21.0 22.0 23.0 24.0 25.0 ... 356.0 357.0 358.0 359.0\n",
              "  * lon      (lon) float64 0.0 1.0 2.0 3.0 4.0 ... 715.0 716.0 717.0 718.0 719.0</pre><div class='xr-wrap' style='display:none'><div class='xr-header'><div class='xr-obj-type'>xarray.DataArray</div><div class='xr-array-name'>'clusters'</div><ul class='xr-dim-list'><li><span class='xr-has-index'>lat</span>: 339</li><li><span class='xr-has-index'>lon</span>: 720</li></ul></div><ul class='xr-sections'><li class='xr-section-item'><div class='xr-array-wrap'><input id='section-d61ad52a-160f-4f27-bb72-9a7074e8ab4c' class='xr-array-in' type='checkbox' checked><label for='section-d61ad52a-160f-4f27-bb72-9a7074e8ab4c' title='Show/hide data repr'><svg class='icon xr-icon-database'><use xlink:href='#icon-database'></use></svg></label><div class='xr-array-preview xr-preview'><span>32.0 16.0 36.0 31.0 31.0 nan nan ... 16.0 16.0 16.0 16.0 16.0 16.0</span></div><div class='xr-array-data'><pre>array([[32., 16., 36., ..., 25., 25., 25.],\n",
              "       [14., 41., 41., ..., 13., 29., 13.],\n",
              "       [13., 13., 37., ..., 25., 13., 13.],\n",
              "       ...,\n",
              "       [16.,  1.,  1., ..., 16., 16., 16.],\n",
              "       [36., 36., 36., ..., 36., 36., 36.],\n",
              "       [16., 16., 16., ..., 16., 16., 16.]])</pre></div></div></li><li class='xr-section-item'><input id='section-faa34abf-0c65-4fb7-ac19-e5dbda78368b' class='xr-section-summary-in' type='checkbox'  checked><label for='section-faa34abf-0c65-4fb7-ac19-e5dbda78368b' class='xr-section-summary' >Coordinates: <span>(2)</span></label><div class='xr-section-inline-details'></div><div class='xr-section-details'><ul class='xr-var-list'><li class='xr-var-item'><div class='xr-var-name'><span class='xr-has-index'>lat</span></div><div class='xr-var-dims'>(lat)</div><div class='xr-var-dtype'>float64</div><div class='xr-var-preview xr-preview'>21.0 22.0 23.0 ... 358.0 359.0</div><input id='attrs-c4e73a76-e129-4830-8350-7874da92884e' class='xr-var-attrs-in' type='checkbox' disabled><label for='attrs-c4e73a76-e129-4830-8350-7874da92884e' title='Show/Hide attributes'><svg class='icon xr-icon-file-text2'><use xlink:href='#icon-file-text2'></use></svg></label><input id='data-85d40718-9fd3-48d4-82c4-e232763cc87b' class='xr-var-data-in' type='checkbox'><label for='data-85d40718-9fd3-48d4-82c4-e232763cc87b' title='Show/Hide data repr'><svg class='icon xr-icon-database'><use xlink:href='#icon-database'></use></svg></label><div class='xr-var-attrs'><dl class='xr-attrs'></dl></div><div class='xr-var-data'><pre>array([ 21.,  22.,  23., ..., 357., 358., 359.])</pre></div></li><li class='xr-var-item'><div class='xr-var-name'><span class='xr-has-index'>lon</span></div><div class='xr-var-dims'>(lon)</div><div class='xr-var-dtype'>float64</div><div class='xr-var-preview xr-preview'>0.0 1.0 2.0 ... 717.0 718.0 719.0</div><input id='attrs-3c3aec9e-efdc-41ab-ae8a-bd377286d3c1' class='xr-var-attrs-in' type='checkbox' disabled><label for='attrs-3c3aec9e-efdc-41ab-ae8a-bd377286d3c1' title='Show/Hide attributes'><svg class='icon xr-icon-file-text2'><use xlink:href='#icon-file-text2'></use></svg></label><input id='data-f123b11a-edea-4cad-9b23-feb8a11e764e' class='xr-var-data-in' type='checkbox'><label for='data-f123b11a-edea-4cad-9b23-feb8a11e764e' title='Show/Hide data repr'><svg class='icon xr-icon-database'><use xlink:href='#icon-database'></use></svg></label><div class='xr-var-attrs'><dl class='xr-attrs'></dl></div><div class='xr-var-data'><pre>array([  0.,   1.,   2., ..., 717., 718., 719.])</pre></div></li></ul></div></li><li class='xr-section-item'><input id='section-dc9bd6f3-4a56-4592-b645-7d378a932943' class='xr-section-summary-in' type='checkbox' disabled ><label for='section-dc9bd6f3-4a56-4592-b645-7d378a932943' class='xr-section-summary'  title='Expand/collapse section'>Attributes: <span>(0)</span></label><div class='xr-section-inline-details'></div><div class='xr-section-details'><dl class='xr-attrs'></dl></div></li></ul></div></div>"
            ]
          },
          "metadata": {},
          "execution_count": 95
        }
      ]
    },
    {
      "cell_type": "markdown",
      "source": [
        "Now we have an unstacked dataset, and can now easily plot out the clusters we found!\n",
        "\n",
        "###**Q11) Plot the 'cluster' variable using the built-in xarray function**\n",
        "*Hint: `.plot()` [link text](https://xarray.pydata.org/en/stable/generated/xarray.DataArray.plot.html) let's you access the xarray implementations of [`pcolormesh`](https://matplotlib.org/3.1.1/api/_as_gen/matplotlib.pyplot.pcolormesh.html) and [`imshow`](https://matplotlib.org/3.1.1/api/_as_gen/matplotlib.pyplot.imshow.html).*"
      ],
      "metadata": {
        "id": "y4w0zUDn8OOU"
      }
    },
    {
      "cell_type": "code",
      "source": [
        "# Check cluster distribution\n",
        "processed_ds.clusters.plot.hist()"
      ],
      "metadata": {
        "id": "t7YV3WFXpkbv",
        "outputId": "51256dea-9705-4658-f68a-eaa8d88fe43d",
        "colab": {
          "base_uri": "https://localhost:8080/",
          "height": 358
        }
      },
      "execution_count": 99,
      "outputs": [
        {
          "output_type": "execute_result",
          "data": {
            "text/plain": [
              "(array([100186.,    559.,   3468.,  11558.,    824.,   6061.,  17860.,\n",
              "          4041.,   1194.,   3963.]),\n",
              " array([ 0. ,  4.9,  9.8, 14.7, 19.6, 24.5, 29.4, 34.3, 39.2, 44.1, 49. ]),\n",
              " <a list of 10 Patch objects>)"
            ]
          },
          "metadata": {},
          "execution_count": 99
        },
        {
          "output_type": "display_data",
          "data": {
            "text/plain": [
              "<Figure size 432x288 with 1 Axes>"
            ],
            "image/png": "[encoded data removed]"
          },
          "metadata": {
            "needs_background": "light"
          }
        }
      ]
    },
    {
      "cell_type": "code",
      "source": [
        "processed_ds.clusters.plot.pcolormesh(figsize = (12, 6), cmap = 'jet', add_colorbar = True)"
      ],
      "metadata": {
        "id": "DLLCcgw_n3tu",
        "outputId": "ccf5c050-a48e-46d9-a27d-18612732e16a",
        "colab": {
          "base_uri": "https://localhost:8080/",
          "height": 413
        }
      },
      "execution_count": 101,
      "outputs": [
        {
          "output_type": "execute_result",
          "data": {
            "text/plain": [
              "<matplotlib.collections.QuadMesh at 0x7ff6a6305910>"
            ]
          },
          "metadata": {},
          "execution_count": 101
        },
        {
          "output_type": "display_data",
          "data": {
            "text/plain": [
              "<Figure size 864x432 with 2 Axes>"
            ],
            "image/png": "[encoded data removed]"
          },
          "metadata": {
            "needs_background": "light"
          }
        }
      ]
    },
    {
      "cell_type": "markdown",
      "source": [
        "Compare your results to those from the paper:\n",
        "<img src='https://unils-my.sharepoint.com/:i:/g/personal/tom_beucler_unil_ch/EdLh6Ds0yVlFivyfIOXlV74B_G35dVz87GFagzylIG-gZA?download=1'>"
      ],
      "metadata": {
        "id": "sOja6JCxo45g"
      }
    },
    {
      "cell_type": "markdown",
      "source": [
        "We now want to find the 5 most common regimes, and group the rest. This isn't straightforward, so we've gone ahead and prepared the code for you. Run through it and try to understand what the code is doing!"
      ],
      "metadata": {
        "id": "HrLKLVWXtgeX"
      }
    },
    {
      "cell_type": "code",
      "source": [
        "# Make field filled with -1 vals so unprocessed points are easily retrieved.\n",
        "# Noise masked applied automatically by using previously found labels as base.\n",
        "processed_ds['final_clusters'] = (processed_ds.clusters * 0) - 1\n",
        "\n",
        "# Find the 5 most common cluster labels\n",
        "top_clusters = processed_ds.groupby('clusters').count().sortby('BPT').tail(5).clusters.values\n",
        "\n",
        "#Build the set of indices for the cluster data, used for rewriting cluster labels\n",
        "for idx, label in enumerate(top_clusters):\n",
        "    #Find the indices where the label is found\n",
        "    indices = (processed_ds.clusters == label)\n",
        "\n",
        "    processed_ds['final_clusters'].values[indices] = 4-idx\n",
        "\n",
        "# Set the remaining unlabeled regions to category 5 \"non-linear\"\n",
        "processed_ds['final_clusters'].values[processed_ds.final_clusters==-1] = 5\n",
        "\n",
        "# Plot the figure\n",
        "processed_ds.final_clusters.plot.imshow(cmap=mycmap, figsize=(18,8));"
      ],
      "metadata": {
        "id": "UO5OohbKptau",
        "outputId": "987b198d-8607-4b55-f3e4-42ad4f35653f",
        "colab": {
          "base_uri": "https://localhost:8080/",
          "height": 509
        }
      },
      "execution_count": 100,
      "outputs": [
        {
          "output_type": "display_data",
          "data": {
            "text/plain": [
              "<Figure size 1296x576 with 2 Axes>"
            ],
            "image/png": "[encoded data removed]"
          },
          "metadata": {
            "needs_background": "light"
          }
        }
      ]
    },
    {
      "cell_type": "code",
      "source": [
        "# Feel free to use this space "
      ],
      "metadata": {
        "id": "IHSj9yRaUCSg"
      },
      "execution_count": null,
      "outputs": []
    },
    {
      "cell_type": "markdown",
      "source": [
        "Compare it to the regimes found in the paper:\n",
        "<img src='https://unils-my.sharepoint.com/:i:/g/personal/tom_beucler_unil_ch/EehuR9cUfaJImrw4DCAzDPoBiGuG7R3Ys6453Umi1cN_OQ?download=1'>\n",
        "\n"
      ],
      "metadata": {
        "id": "eEMmkpGkc1Xy"
      }
    },
    {
      "cell_type": "markdown",
      "source": [
        "The authors then went on to train neural networks ***to infer in-depth dynamics from data that is largely readily available from for example CMIP6 models, using NN methods to infer the source of predictive skill*** and ***to apply the trained Ensemble MLP to a climate model in order to assess circulation changes under global heating***. \n",
        "\n",
        "For our purposes, however, we will say goodbye to *THOR* at this point 😃"
      ],
      "metadata": {
        "id": "nbWgoD7bv8AH"
      }
    }
  ]
}